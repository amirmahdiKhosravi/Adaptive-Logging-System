{
 "cells": [
  {
   "cell_type": "markdown",
   "id": "458f3c21",
   "metadata": {},
   "source": [
    "# Requirements"
   ]
  },
  {
   "cell_type": "code",
   "execution_count": 113,
   "id": "6857dbc7",
   "metadata": {
    "collapsed": true
   },
   "outputs": [
    {
     "name": "stdout",
     "output_type": "stream",
     "text": [
      "Collecting javalang\n",
      "  Downloading javalang-0.13.0-py3-none-any.whl (22 kB)\n",
      "Requirement already satisfied: six in /home/amirmahdi/anaconda3/envs/RL_Project2/lib/python3.7/site-packages (from javalang) (1.16.0)\n",
      "Installing collected packages: javalang\n",
      "Successfully installed javalang-0.13.0\n"
     ]
    }
   ],
   "source": [
    "!pip install javalang"
   ]
  },
  {
   "cell_type": "code",
   "execution_count": 20,
   "id": "13d6a935",
   "metadata": {},
   "outputs": [],
   "source": [
    "import os\n",
    "import hashlib\n",
    "import ast       #Library to produce AST and analyze it\n",
    "import astor     #Library to produce the actual code of an AST\n",
    "import pandas as pd\n",
    "#import javalang\n",
    "#from javalang.tree import *"
   ]
  },
  {
   "cell_type": "code",
   "execution_count": 10,
   "id": "4b41fe61",
   "metadata": {},
   "outputs": [],
   "source": [
    "hash_dict = {}\n",
    "filesname = []\n",
    "file_directories = []"
   ]
  },
  {
   "cell_type": "code",
   "execution_count": 11,
   "id": "d3c4ed15",
   "metadata": {},
   "outputs": [],
   "source": [
    "\"\"\"\n",
    "In this part we make a list of the files' name and their own directory in the given directory.\n",
    "A dictionary is also produced having a hash value of the files name as the key and their actual name as the value.\n",
    "\"\"\"\n",
    "\n",
    "directory = \"/home/amirmahdi/projects/Adaptive-Logging-system-git/projects-to-investigate/allura-master/selected-files-to-investigate\"\n",
    "for filename in os.listdir(directory):\n",
    "    f = os.path.join(directory, filename)\n",
    "    if os.path.isfile(f):\n",
    "        filesname.append(filename)\n",
    "        file_directories.append(f)"
   ]
  },
  {
   "cell_type": "code",
   "execution_count": 13,
   "id": "319eb3e9",
   "metadata": {
    "collapsed": true
   },
   "outputs": [
    {
     "data": {
      "text/plain": [
       "['/home/amirmahdi/projects/Adaptive-Logging-system-git/projects-to-investigate/allura-master/selected-files-to-investigate/oauth.py',\n",
       " '/home/amirmahdi/projects/Adaptive-Logging-system-git/projects-to-investigate/allura-master/selected-files-to-investigate/timeline.py',\n",
       " '/home/amirmahdi/projects/Adaptive-Logging-system-git/projects-to-investigate/allura-master/selected-files-to-investigate/basetest_project_root.py',\n",
       " '/home/amirmahdi/projects/Adaptive-Logging-system-git/projects-to-investigate/allura-master/selected-files-to-investigate/repository.py',\n",
       " '/home/amirmahdi/projects/Adaptive-Logging-system-git/projects-to-investigate/allura-master/selected-files-to-investigate/test_feeds.py',\n",
       " '/home/amirmahdi/projects/Adaptive-Logging-system-git/projects-to-investigate/allura-master/selected-files-to-investigate/taskd.py',\n",
       " '/home/amirmahdi/projects/Adaptive-Logging-system-git/projects-to-investigate/allura-master/selected-files-to-investigate/__init__.py',\n",
       " '/home/amirmahdi/projects/Adaptive-Logging-system-git/projects-to-investigate/allura-master/selected-files-to-investigate/index.py',\n",
       " '/home/amirmahdi/projects/Adaptive-Logging-system-git/projects-to-investigate/allura-master/selected-files-to-investigate/error.py',\n",
       " '/home/amirmahdi/projects/Adaptive-Logging-system-git/projects-to-investigate/allura-master/selected-files-to-investigate/root.py',\n",
       " '/home/amirmahdi/projects/Adaptive-Logging-system-git/projects-to-investigate/allura-master/selected-files-to-investigate/trovecategories.py',\n",
       " '/home/amirmahdi/projects/Adaptive-Logging-system-git/projects-to-investigate/allura-master/selected-files-to-investigate/test_root.py',\n",
       " '/home/amirmahdi/projects/Adaptive-Logging-system-git/projects-to-investigate/allura-master/selected-files-to-investigate/attachments.py',\n",
       " '/home/amirmahdi/projects/Adaptive-Logging-system-git/projects-to-investigate/allura-master/selected-files-to-investigate/rest.py',\n",
       " '/home/amirmahdi/projects/Adaptive-Logging-system-git/projects-to-investigate/allura-master/selected-files-to-investigate/app_cfg.py',\n",
       " '/home/amirmahdi/projects/Adaptive-Logging-system-git/projects-to-investigate/allura-master/selected-files-to-investigate/test_rest.py',\n",
       " '/home/amirmahdi/projects/Adaptive-Logging-system-git/projects-to-investigate/allura-master/selected-files-to-investigate/auth.py',\n",
       " '/home/amirmahdi/projects/Adaptive-Logging-system-git/projects-to-investigate/allura-master/selected-files-to-investigate/multifactor.py',\n",
       " '/home/amirmahdi/projects/Adaptive-Logging-system-git/projects-to-investigate/allura-master/selected-files-to-investigate/resources.py',\n",
       " '/home/amirmahdi/projects/Adaptive-Logging-system-git/projects-to-investigate/allura-master/selected-files-to-investigate/feed.py',\n",
       " '/home/amirmahdi/projects/Adaptive-Logging-system-git/projects-to-investigate/allura-master/selected-files-to-investigate/create_neighborhood.py',\n",
       " '/home/amirmahdi/projects/Adaptive-Logging-system-git/projects-to-investigate/allura-master/selected-files-to-investigate/project.py',\n",
       " '/home/amirmahdi/projects/Adaptive-Logging-system-git/projects-to-investigate/allura-master/selected-files-to-investigate/discuss.py',\n",
       " '/home/amirmahdi/projects/Adaptive-Logging-system-git/projects-to-investigate/allura-master/selected-files-to-investigate/monq_model.py',\n",
       " '/home/amirmahdi/projects/Adaptive-Logging-system-git/projects-to-investigate/allura-master/selected-files-to-investigate/repo_refresh.py',\n",
       " '/home/amirmahdi/projects/Adaptive-Logging-system-git/projects-to-investigate/allura-master/selected-files-to-investigate/artifact.py',\n",
       " '/home/amirmahdi/projects/Adaptive-Logging-system-git/projects-to-investigate/allura-master/selected-files-to-investigate/filesystem.py',\n",
       " '/home/amirmahdi/projects/Adaptive-Logging-system-git/projects-to-investigate/allura-master/selected-files-to-investigate/webhook.py',\n",
       " '/home/amirmahdi/projects/Adaptive-Logging-system-git/projects-to-investigate/allura-master/selected-files-to-investigate/show_models.py',\n",
       " '/home/amirmahdi/projects/Adaptive-Logging-system-git/projects-to-investigate/allura-master/selected-files-to-investigate/smtp_server.py',\n",
       " '/home/amirmahdi/projects/Adaptive-Logging-system-git/projects-to-investigate/allura-master/selected-files-to-investigate/session.py',\n",
       " '/home/amirmahdi/projects/Adaptive-Logging-system-git/projects-to-investigate/allura-master/selected-files-to-investigate/task.py',\n",
       " '/home/amirmahdi/projects/Adaptive-Logging-system-git/projects-to-investigate/allura-master/selected-files-to-investigate/middleware.py',\n",
       " '/home/amirmahdi/projects/Adaptive-Logging-system-git/projects-to-investigate/allura-master/selected-files-to-investigate/reclone_repo.py',\n",
       " '/home/amirmahdi/projects/Adaptive-Logging-system-git/projects-to-investigate/allura-master/selected-files-to-investigate/base.py',\n",
       " '/home/amirmahdi/projects/Adaptive-Logging-system-git/projects-to-investigate/allura-master/selected-files-to-investigate/create_trove_categories.py',\n",
       " '/home/amirmahdi/projects/Adaptive-Logging-system-git/projects-to-investigate/allura-master/selected-files-to-investigate/site_admin.py',\n",
       " '/home/amirmahdi/projects/Adaptive-Logging-system-git/projects-to-investigate/allura-master/selected-files-to-investigate/neighborhood.py',\n",
       " '/home/amirmahdi/projects/Adaptive-Logging-system-git/projects-to-investigate/allura-master/selected-files-to-investigate/search.py',\n",
       " '/home/amirmahdi/projects/Adaptive-Logging-system-git/projects-to-investigate/allura-master/selected-files-to-investigate/repo.py',\n",
       " '/home/amirmahdi/projects/Adaptive-Logging-system-git/projects-to-investigate/allura-master/selected-files-to-investigate/notification.py',\n",
       " '/home/amirmahdi/projects/Adaptive-Logging-system-git/projects-to-investigate/allura-master/selected-files-to-investigate/stats.py',\n",
       " '/home/amirmahdi/projects/Adaptive-Logging-system-git/projects-to-investigate/allura-master/selected-files-to-investigate/taskd_cleanup.py',\n",
       " '/home/amirmahdi/projects/Adaptive-Logging-system-git/projects-to-investigate/allura-master/selected-files-to-investigate/set_neighborhood_features.py',\n",
       " '/home/amirmahdi/projects/Adaptive-Logging-system-git/projects-to-investigate/allura-master/selected-files-to-investigate/script.py',\n",
       " '/home/amirmahdi/projects/Adaptive-Logging-system-git/projects-to-investigate/allura-master/selected-files-to-investigate/types.py',\n",
       " '/home/amirmahdi/projects/Adaptive-Logging-system-git/projects-to-investigate/allura-master/selected-files-to-investigate/newforge.py']"
      ]
     },
     "execution_count": 13,
     "metadata": {},
     "output_type": "execute_result"
    }
   ],
   "source": [
    "file_directories"
   ]
  },
  {
   "cell_type": "markdown",
   "id": "cbf69358",
   "metadata": {},
   "source": [
    "# Extracting function blocks from source code"
   ]
  },
  {
   "cell_type": "code",
   "execution_count": 12,
   "id": "f0c22b67",
   "metadata": {},
   "outputs": [],
   "source": [
    "\"\"\"\n",
    "This function accepts the source code as a string. It first parse it to AST, then iterate through AST and selects \n",
    "nodes that are representing function definition (FunctionDef)\n",
    "\"\"\"\n",
    "\n",
    "def extract_functions(source_code):\n",
    "    tree = ast.parse(source_code)\n",
    "    functions = []\n",
    "    for node in ast.walk(tree):\n",
    "        if isinstance(node, ast.FunctionDef):\n",
    "            functions.append(node)\n",
    "    return functions"
   ]
  },
  {
   "cell_type": "code",
   "execution_count": 17,
   "id": "bd58c993",
   "metadata": {},
   "outputs": [],
   "source": [
    "\"\"\"\n",
    "Creating the func_of_files list which each of its elements it is a list of function nodes of a file in the\n",
    "directory.\n",
    "These nodes (subtree of the AST) could be used to creat the actual functions in string by using following code:\n",
    "\n",
    "source_code = astor.to_source(node)\n",
    "\n",
    "Also, in this an ID is assigned to each function (based on its name) by using hashlib, then this ID is used as \n",
    "the key value of the \"hash_dict\" which holds a list containing function's name and its directory as the \n",
    "dictionary's value.\n",
    "\"\"\"\n",
    "\n",
    "func_nodes_of_files = []\n",
    "for file_dir in file_directories:\n",
    "    with open(file_dir, \"r\") as file:\n",
    "        source_code = file.read()\n",
    "    functions = extract_functions(source_code)\n",
    "    for function in functions:\n",
    "        hash_dict[ hashlib.sha1(str.encode(function.name)).hexdigest() ] = [file_dir.split(\"/\")[-1], file_dir] \n",
    "    func_nodes_of_files.extend(functions)"
   ]
  },
  {
   "cell_type": "code",
   "execution_count": 18,
   "id": "2678027f",
   "metadata": {},
   "outputs": [
    {
     "data": {
      "text/plain": [
       "'dummy_oauths'"
      ]
     },
     "execution_count": 18,
     "metadata": {},
     "output_type": "execute_result"
    }
   ],
   "source": [
    "func_nodes_of_files[0].name"
   ]
  },
  {
   "cell_type": "code",
   "execution_count": 19,
   "id": "2f173c4c",
   "metadata": {},
   "outputs": [
    {
     "name": "stdout",
     "output_type": "stream",
     "text": [
      "def dummy_oauths():\n",
      "    from allura.controllers.rest import Oauth1Validator\n",
      "    dummy_cons_tok = OAuthConsumerToken(api_key=Oauth1Validator().\n",
      "        dummy_client, name='dummy client, for oauthlib implementation',\n",
      "        user_id=None)\n",
      "    session(dummy_cons_tok).flush(dummy_cons_tok)\n",
      "    dummy_req_tok = OAuthRequestToken(api_key=Oauth1Validator().\n",
      "        dummy_request_token, user_id=None, validation_pin='dummy-pin')\n",
      "    session(dummy_req_tok).flush(dummy_req_tok)\n",
      "    dummy_access_tok = OAuthAccessToken(api_key=Oauth1Validator().\n",
      "        dummy_access_token, user_id=None)\n",
      "    session(dummy_access_tok).flush(dummy_access_tok)\n",
      "\n"
     ]
    }
   ],
   "source": [
    "source = astor.to_source(func_nodes_of_files[0])\n",
    "print(source)"
   ]
  },
  {
   "cell_type": "markdown",
   "id": "52ffca4d",
   "metadata": {},
   "source": [
    "# Structring Dataset by extracting functions' features"
   ]
  },
  {
   "cell_type": "markdown",
   "id": "4ffe99ea",
   "metadata": {},
   "source": [
    "### 1. Input-dependent loops"
   ]
  },
  {
   "cell_type": "code",
   "execution_count": 23,
   "id": "c20a1dc8",
   "metadata": {},
   "outputs": [],
   "source": [
    "def for_loop_finder(function_node):\n",
    "    fors = []\n",
    "    for node in ast.walk(function_node):\n",
    "        if isinstance(node, ast.For):\n",
    "            fors.append(node)\n",
    "    return fors"
   ]
  },
  {
   "cell_type": "code",
   "execution_count": 24,
   "id": "e162759f",
   "metadata": {},
   "outputs": [
    {
     "data": {
      "text/html": [
       "<div>\n",
       "<style scoped>\n",
       "    .dataframe tbody tr th:only-of-type {\n",
       "        vertical-align: middle;\n",
       "    }\n",
       "\n",
       "    .dataframe tbody tr th {\n",
       "        vertical-align: top;\n",
       "    }\n",
       "\n",
       "    .dataframe thead th {\n",
       "        text-align: right;\n",
       "    }\n",
       "</style>\n",
       "<table border=\"1\" class=\"dataframe\">\n",
       "  <thead>\n",
       "    <tr style=\"text-align: right;\">\n",
       "      <th></th>\n",
       "      <th>ID</th>\n",
       "      <th>number_of_for</th>\n",
       "    </tr>\n",
       "  </thead>\n",
       "  <tbody>\n",
       "    <tr>\n",
       "      <th>0</th>\n",
       "      <td>567f964c581cc9644092b27d95f11eeb42833741</td>\n",
       "      <td>0</td>\n",
       "    </tr>\n",
       "    <tr>\n",
       "      <th>1</th>\n",
       "      <td>567f964c581cc9644092b27d95f11eeb42833741</td>\n",
       "      <td>0</td>\n",
       "    </tr>\n",
       "    <tr>\n",
       "      <th>2</th>\n",
       "      <td>567f964c581cc9644092b27d95f11eeb42833741</td>\n",
       "      <td>0</td>\n",
       "    </tr>\n",
       "    <tr>\n",
       "      <th>3</th>\n",
       "      <td>567f964c581cc9644092b27d95f11eeb42833741</td>\n",
       "      <td>0</td>\n",
       "    </tr>\n",
       "    <tr>\n",
       "      <th>4</th>\n",
       "      <td>567f964c581cc9644092b27d95f11eeb42833741</td>\n",
       "      <td>0</td>\n",
       "    </tr>\n",
       "    <tr>\n",
       "      <th>...</th>\n",
       "      <td>...</td>\n",
       "      <td>...</td>\n",
       "    </tr>\n",
       "    <tr>\n",
       "      <th>776</th>\n",
       "      <td>567f964c581cc9644092b27d95f11eeb42833741</td>\n",
       "      <td>0</td>\n",
       "    </tr>\n",
       "    <tr>\n",
       "      <th>777</th>\n",
       "      <td>567f964c581cc9644092b27d95f11eeb42833741</td>\n",
       "      <td>0</td>\n",
       "    </tr>\n",
       "    <tr>\n",
       "      <th>778</th>\n",
       "      <td>567f964c581cc9644092b27d95f11eeb42833741</td>\n",
       "      <td>0</td>\n",
       "    </tr>\n",
       "    <tr>\n",
       "      <th>779</th>\n",
       "      <td>567f964c581cc9644092b27d95f11eeb42833741</td>\n",
       "      <td>0</td>\n",
       "    </tr>\n",
       "    <tr>\n",
       "      <th>780</th>\n",
       "      <td>567f964c581cc9644092b27d95f11eeb42833741</td>\n",
       "      <td>0</td>\n",
       "    </tr>\n",
       "  </tbody>\n",
       "</table>\n",
       "<p>781 rows × 2 columns</p>\n",
       "</div>"
      ],
      "text/plain": [
       "                                           ID number_of_for\n",
       "0    567f964c581cc9644092b27d95f11eeb42833741             0\n",
       "1    567f964c581cc9644092b27d95f11eeb42833741             0\n",
       "2    567f964c581cc9644092b27d95f11eeb42833741             0\n",
       "3    567f964c581cc9644092b27d95f11eeb42833741             0\n",
       "4    567f964c581cc9644092b27d95f11eeb42833741             0\n",
       "..                                        ...           ...\n",
       "776  567f964c581cc9644092b27d95f11eeb42833741             0\n",
       "777  567f964c581cc9644092b27d95f11eeb42833741             0\n",
       "778  567f964c581cc9644092b27d95f11eeb42833741             0\n",
       "779  567f964c581cc9644092b27d95f11eeb42833741             0\n",
       "780  567f964c581cc9644092b27d95f11eeb42833741             0\n",
       "\n",
       "[781 rows x 2 columns]"
      ]
     },
     "execution_count": 24,
     "metadata": {},
     "output_type": "execute_result"
    }
   ],
   "source": [
    "df = pd.DataFrame(columns = ['ID', 'number_of_for'])\n",
    "for function_node in func_nodes_of_files:\n",
    "    found_fors = for_loop_finder(function_node)\n",
    "    \n",
    "    ID = hashlib.sha1(str.encode(filename)).hexdigest()\n",
    "    number_of_for = len(found_fors)\n",
    "    \n",
    "    new_row = pd.Series({\"ID\":ID, \"number_of_for\":number_of_for})\n",
    "    df = pd.concat([df, new_row.to_frame().T], ignore_index=True)\n",
    "df"
   ]
  },
  {
   "cell_type": "code",
   "execution_count": 45,
   "id": "93a08dea",
   "metadata": {},
   "outputs": [
    {
     "name": "stdout",
     "output_type": "stream",
     "text": [
      "for node in ([obj, target] + (related_nodes or [])):\n",
      "    if isinstance(node, Project):\n",
      "        create_timelines.post(node.node_id)\n",
      "\n"
     ]
    }
   ],
   "source": [
    "fors = [] #this should be dataframe instead\n",
    "for function_node in func_nodes_of_files:\n",
    "    found_fors = for_loop_finder(function_node)\n",
    "    if len(found_fors) != 0:\n",
    "        fors.extend(found_fors)\n",
    "print(astor.to_source(for_nodes_of_files[0][0]))"
   ]
  }
 ],
 "metadata": {
  "kernelspec": {
   "display_name": "Python 3 (ipykernel)",
   "language": "python",
   "name": "python3"
  },
  "language_info": {
   "codemirror_mode": {
    "name": "ipython",
    "version": 3
   },
   "file_extension": ".py",
   "mimetype": "text/x-python",
   "name": "python",
   "nbconvert_exporter": "python",
   "pygments_lexer": "ipython3",
   "version": "3.7.11"
  }
 },
 "nbformat": 4,
 "nbformat_minor": 5
}
