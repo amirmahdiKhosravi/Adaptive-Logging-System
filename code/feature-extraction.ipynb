{
 "cells": [
  {
   "cell_type": "code",
   "execution_count": 113,
   "id": "6857dbc7",
   "metadata": {
    "collapsed": true
   },
   "outputs": [
    {
     "name": "stdout",
     "output_type": "stream",
     "text": [
      "Collecting javalang\n",
      "  Downloading javalang-0.13.0-py3-none-any.whl (22 kB)\n",
      "Requirement already satisfied: six in /home/amirmahdi/anaconda3/envs/RL_Project2/lib/python3.7/site-packages (from javalang) (1.16.0)\n",
      "Installing collected packages: javalang\n",
      "Successfully installed javalang-0.13.0\n"
     ]
    }
   ],
   "source": [
    "!pip install javalang"
   ]
  },
  {
   "cell_type": "code",
   "execution_count": 32,
   "id": "13d6a935",
   "metadata": {},
   "outputs": [],
   "source": [
    "import os\n",
    "import hashlib\n",
    "import ast       #Library to produce AST and analyze it\n",
    "import astor     #Library to produce the actual code of an AST\n",
    "#import javalang\n",
    "#from javalang.tree import *"
   ]
  },
  {
   "cell_type": "code",
   "execution_count": 14,
   "id": "4b41fe61",
   "metadata": {},
   "outputs": [],
   "source": [
    "hash_dict = {}\n",
    "filesname = []\n",
    "file_directories = []"
   ]
  },
  {
   "cell_type": "code",
   "execution_count": 15,
   "id": "d3c4ed15",
   "metadata": {},
   "outputs": [],
   "source": [
    "\"\"\"\n",
    "In this part we make a list of the files' name and their own directory in the given directory.\n",
    "A dictionary is also produced having a hash value of the files name as the key and their actual name as the value.\n",
    "\"\"\"\n",
    "\n",
    "directory = \"/home/amirmahdi/projects/Adaptive-Logging-system-git/projects-to-investigate/allura-master/selected-files-to-investigate\"\n",
    "for filename in os.listdir(directory):\n",
    "    f = os.path.join(directory, filename)\n",
    "    if os.path.isfile(f):\n",
    "        hash_dict[ hashlib.sha1(str.encode(filename)).hexdigest() ] = filename \n",
    "        filesname.append(filename)\n",
    "        file_directories.append(f)"
   ]
  },
  {
   "cell_type": "code",
   "execution_count": 16,
   "id": "bc73a0a3",
   "metadata": {
    "collapsed": true
   },
   "outputs": [
    {
     "data": {
      "text/plain": [
       "['/home/amirmahdi/projects/Adaptive-Logging-system-git/projects-to-investigate/allura-master/selected-files-to-investigate/oauth.py',\n",
       " '/home/amirmahdi/projects/Adaptive-Logging-system-git/projects-to-investigate/allura-master/selected-files-to-investigate/timeline.py',\n",
       " '/home/amirmahdi/projects/Adaptive-Logging-system-git/projects-to-investigate/allura-master/selected-files-to-investigate/basetest_project_root.py',\n",
       " '/home/amirmahdi/projects/Adaptive-Logging-system-git/projects-to-investigate/allura-master/selected-files-to-investigate/repository.py',\n",
       " '/home/amirmahdi/projects/Adaptive-Logging-system-git/projects-to-investigate/allura-master/selected-files-to-investigate/test_feeds.py',\n",
       " '/home/amirmahdi/projects/Adaptive-Logging-system-git/projects-to-investigate/allura-master/selected-files-to-investigate/taskd.py',\n",
       " '/home/amirmahdi/projects/Adaptive-Logging-system-git/projects-to-investigate/allura-master/selected-files-to-investigate/__init__.py',\n",
       " '/home/amirmahdi/projects/Adaptive-Logging-system-git/projects-to-investigate/allura-master/selected-files-to-investigate/index.py',\n",
       " '/home/amirmahdi/projects/Adaptive-Logging-system-git/projects-to-investigate/allura-master/selected-files-to-investigate/error.py',\n",
       " '/home/amirmahdi/projects/Adaptive-Logging-system-git/projects-to-investigate/allura-master/selected-files-to-investigate/root.py',\n",
       " '/home/amirmahdi/projects/Adaptive-Logging-system-git/projects-to-investigate/allura-master/selected-files-to-investigate/trovecategories.py',\n",
       " '/home/amirmahdi/projects/Adaptive-Logging-system-git/projects-to-investigate/allura-master/selected-files-to-investigate/test_root.py',\n",
       " '/home/amirmahdi/projects/Adaptive-Logging-system-git/projects-to-investigate/allura-master/selected-files-to-investigate/attachments.py',\n",
       " '/home/amirmahdi/projects/Adaptive-Logging-system-git/projects-to-investigate/allura-master/selected-files-to-investigate/rest.py',\n",
       " '/home/amirmahdi/projects/Adaptive-Logging-system-git/projects-to-investigate/allura-master/selected-files-to-investigate/app_cfg.py',\n",
       " '/home/amirmahdi/projects/Adaptive-Logging-system-git/projects-to-investigate/allura-master/selected-files-to-investigate/test_rest.py',\n",
       " '/home/amirmahdi/projects/Adaptive-Logging-system-git/projects-to-investigate/allura-master/selected-files-to-investigate/auth.py',\n",
       " '/home/amirmahdi/projects/Adaptive-Logging-system-git/projects-to-investigate/allura-master/selected-files-to-investigate/multifactor.py',\n",
       " '/home/amirmahdi/projects/Adaptive-Logging-system-git/projects-to-investigate/allura-master/selected-files-to-investigate/resources.py',\n",
       " '/home/amirmahdi/projects/Adaptive-Logging-system-git/projects-to-investigate/allura-master/selected-files-to-investigate/feed.py',\n",
       " '/home/amirmahdi/projects/Adaptive-Logging-system-git/projects-to-investigate/allura-master/selected-files-to-investigate/create_neighborhood.py',\n",
       " '/home/amirmahdi/projects/Adaptive-Logging-system-git/projects-to-investigate/allura-master/selected-files-to-investigate/project.py',\n",
       " '/home/amirmahdi/projects/Adaptive-Logging-system-git/projects-to-investigate/allura-master/selected-files-to-investigate/discuss.py',\n",
       " '/home/amirmahdi/projects/Adaptive-Logging-system-git/projects-to-investigate/allura-master/selected-files-to-investigate/monq_model.py',\n",
       " '/home/amirmahdi/projects/Adaptive-Logging-system-git/projects-to-investigate/allura-master/selected-files-to-investigate/repo_refresh.py',\n",
       " '/home/amirmahdi/projects/Adaptive-Logging-system-git/projects-to-investigate/allura-master/selected-files-to-investigate/artifact.py',\n",
       " '/home/amirmahdi/projects/Adaptive-Logging-system-git/projects-to-investigate/allura-master/selected-files-to-investigate/filesystem.py',\n",
       " '/home/amirmahdi/projects/Adaptive-Logging-system-git/projects-to-investigate/allura-master/selected-files-to-investigate/webhook.py',\n",
       " '/home/amirmahdi/projects/Adaptive-Logging-system-git/projects-to-investigate/allura-master/selected-files-to-investigate/show_models.py',\n",
       " '/home/amirmahdi/projects/Adaptive-Logging-system-git/projects-to-investigate/allura-master/selected-files-to-investigate/smtp_server.py',\n",
       " '/home/amirmahdi/projects/Adaptive-Logging-system-git/projects-to-investigate/allura-master/selected-files-to-investigate/session.py',\n",
       " '/home/amirmahdi/projects/Adaptive-Logging-system-git/projects-to-investigate/allura-master/selected-files-to-investigate/task.py',\n",
       " '/home/amirmahdi/projects/Adaptive-Logging-system-git/projects-to-investigate/allura-master/selected-files-to-investigate/middleware.py',\n",
       " '/home/amirmahdi/projects/Adaptive-Logging-system-git/projects-to-investigate/allura-master/selected-files-to-investigate/reclone_repo.py',\n",
       " '/home/amirmahdi/projects/Adaptive-Logging-system-git/projects-to-investigate/allura-master/selected-files-to-investigate/base.py',\n",
       " '/home/amirmahdi/projects/Adaptive-Logging-system-git/projects-to-investigate/allura-master/selected-files-to-investigate/create_trove_categories.py',\n",
       " '/home/amirmahdi/projects/Adaptive-Logging-system-git/projects-to-investigate/allura-master/selected-files-to-investigate/site_admin.py',\n",
       " '/home/amirmahdi/projects/Adaptive-Logging-system-git/projects-to-investigate/allura-master/selected-files-to-investigate/neighborhood.py',\n",
       " '/home/amirmahdi/projects/Adaptive-Logging-system-git/projects-to-investigate/allura-master/selected-files-to-investigate/search.py',\n",
       " '/home/amirmahdi/projects/Adaptive-Logging-system-git/projects-to-investigate/allura-master/selected-files-to-investigate/repo.py',\n",
       " '/home/amirmahdi/projects/Adaptive-Logging-system-git/projects-to-investigate/allura-master/selected-files-to-investigate/notification.py',\n",
       " '/home/amirmahdi/projects/Adaptive-Logging-system-git/projects-to-investigate/allura-master/selected-files-to-investigate/stats.py',\n",
       " '/home/amirmahdi/projects/Adaptive-Logging-system-git/projects-to-investigate/allura-master/selected-files-to-investigate/taskd_cleanup.py',\n",
       " '/home/amirmahdi/projects/Adaptive-Logging-system-git/projects-to-investigate/allura-master/selected-files-to-investigate/set_neighborhood_features.py',\n",
       " '/home/amirmahdi/projects/Adaptive-Logging-system-git/projects-to-investigate/allura-master/selected-files-to-investigate/script.py',\n",
       " '/home/amirmahdi/projects/Adaptive-Logging-system-git/projects-to-investigate/allura-master/selected-files-to-investigate/types.py',\n",
       " '/home/amirmahdi/projects/Adaptive-Logging-system-git/projects-to-investigate/allura-master/selected-files-to-investigate/newforge.py']"
      ]
     },
     "execution_count": 16,
     "metadata": {},
     "output_type": "execute_result"
    }
   ],
   "source": [
    "file_directories"
   ]
  },
  {
   "cell_type": "code",
   "execution_count": 38,
   "id": "f0c22b67",
   "metadata": {},
   "outputs": [],
   "source": [
    "\"\"\"\n",
    "This function accepts the source code as a string. It first parse it to AST, then iterate through AST and selects \n",
    "nodes that are representing function definition (FunctionDef)\n",
    "\"\"\"\n",
    "\n",
    "def extract_functions(source_code):\n",
    "    tree = ast.parse(source_code)\n",
    "    functions = []\n",
    "    for node in ast.walk(tree):\n",
    "        if isinstance(node, ast.FunctionDef):\n",
    "            functions.append(node)\n",
    "    return functions"
   ]
  },
  {
   "cell_type": "code",
   "execution_count": 34,
   "id": "bd58c993",
   "metadata": {},
   "outputs": [],
   "source": [
    "\"\"\"\n",
    "Creating the func_of_files list which each of its elements it is a list of function nodes of a file in the\n",
    "directory.\n",
    "These nodes (subtree of the AST) could be used to creat the actual functions in string by using following code:\n",
    "\n",
    "source_code = astor.to_source(node)\n",
    "\"\"\"\n",
    "\n",
    "func_of_files = []\n",
    "for file_dir in file_directories:\n",
    "    with open(file_dir, \"r\") as file:\n",
    "        source_code = file.read()\n",
    "    functions = extract_functions(source_code)\n",
    "    func_of_files.append(functions)"
   ]
  },
  {
   "cell_type": "code",
   "execution_count": 37,
   "id": "afcca43d",
   "metadata": {},
   "outputs": [
    {
     "name": "stdout",
     "output_type": "stream",
     "text": [
      "def dummy_oauths():\n",
      "    from allura.controllers.rest import Oauth1Validator\n",
      "    dummy_cons_tok = OAuthConsumerToken(api_key=Oauth1Validator().\n",
      "        dummy_client, name='dummy client, for oauthlib implementation',\n",
      "        user_id=None)\n",
      "    session(dummy_cons_tok).flush(dummy_cons_tok)\n",
      "    dummy_req_tok = OAuthRequestToken(api_key=Oauth1Validator().\n",
      "        dummy_request_token, user_id=None, validation_pin='dummy-pin')\n",
      "    session(dummy_req_tok).flush(dummy_req_tok)\n",
      "    dummy_access_tok = OAuthAccessToken(api_key=Oauth1Validator().\n",
      "        dummy_access_token, user_id=None)\n",
      "    session(dummy_access_tok).flush(dummy_access_tok)\n",
      "\n"
     ]
    }
   ],
   "source": [
    "\n",
    "source = astor.to_source(func_of_files[0][0])\n",
    "print(source)"
   ]
  }
 ],
 "metadata": {
  "kernelspec": {
   "display_name": "Python 3 (ipykernel)",
   "language": "python",
   "name": "python3"
  },
  "language_info": {
   "codemirror_mode": {
    "name": "ipython",
    "version": 3
   },
   "file_extension": ".py",
   "mimetype": "text/x-python",
   "name": "python",
   "nbconvert_exporter": "python",
   "pygments_lexer": "ipython3",
   "version": "3.7.11"
  }
 },
 "nbformat": 4,
 "nbformat_minor": 5
}
