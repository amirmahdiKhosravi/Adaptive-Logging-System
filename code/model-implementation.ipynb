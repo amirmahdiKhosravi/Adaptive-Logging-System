{
 "cells": [
  {
   "cell_type": "code",
   "execution_count": 1,
   "id": "c399b1a2",
   "metadata": {
    "collapsed": true
   },
   "outputs": [
    {
     "name": "stdout",
     "output_type": "stream",
     "text": [
      "Requirement already satisfied: tensorflow==1.15 in /home/amirmahdi/anaconda3/envs/RL_Project2/lib/python3.7/site-packages (1.15.0)\n",
      "Requirement already satisfied: tensorflow-estimator==1.15.1 in /home/amirmahdi/anaconda3/envs/RL_Project2/lib/python3.7/site-packages (from tensorflow==1.15) (1.15.1)\n",
      "Requirement already satisfied: numpy<2.0,>=1.16.0 in /home/amirmahdi/anaconda3/envs/RL_Project2/lib/python3.7/site-packages (from tensorflow==1.15) (1.21.5)\n",
      "Requirement already satisfied: google-pasta>=0.1.6 in /home/amirmahdi/anaconda3/envs/RL_Project2/lib/python3.7/site-packages (from tensorflow==1.15) (0.2.0)\n",
      "Requirement already satisfied: wheel>=0.26 in /home/amirmahdi/anaconda3/envs/RL_Project2/lib/python3.7/site-packages (from tensorflow==1.15) (0.37.0)\n",
      "Requirement already satisfied: keras-applications>=1.0.8 in /home/amirmahdi/anaconda3/envs/RL_Project2/lib/python3.7/site-packages (from tensorflow==1.15) (1.0.8)\n",
      "Requirement already satisfied: absl-py>=0.7.0 in /home/amirmahdi/anaconda3/envs/RL_Project2/lib/python3.7/site-packages (from tensorflow==1.15) (1.0.0)\n",
      "Requirement already satisfied: protobuf>=3.6.1 in /home/amirmahdi/anaconda3/envs/RL_Project2/lib/python3.7/site-packages (from tensorflow==1.15) (3.19.1)\n",
      "Requirement already satisfied: grpcio>=1.8.6 in /home/amirmahdi/anaconda3/envs/RL_Project2/lib/python3.7/site-packages (from tensorflow==1.15) (1.42.0)\n",
      "Requirement already satisfied: astor>=0.6.0 in /home/amirmahdi/anaconda3/envs/RL_Project2/lib/python3.7/site-packages (from tensorflow==1.15) (0.8.1)\n",
      "Requirement already satisfied: tensorboard<1.16.0,>=1.15.0 in /home/amirmahdi/anaconda3/envs/RL_Project2/lib/python3.7/site-packages (from tensorflow==1.15) (1.15.0)\n",
      "Requirement already satisfied: wrapt>=1.11.1 in /home/amirmahdi/anaconda3/envs/RL_Project2/lib/python3.7/site-packages (from tensorflow==1.15) (1.13.3)\n",
      "Requirement already satisfied: gast==0.2.2 in /home/amirmahdi/anaconda3/envs/RL_Project2/lib/python3.7/site-packages (from tensorflow==1.15) (0.2.2)\n",
      "Requirement already satisfied: six>=1.10.0 in /home/amirmahdi/anaconda3/envs/RL_Project2/lib/python3.7/site-packages (from tensorflow==1.15) (1.16.0)\n",
      "Requirement already satisfied: keras-preprocessing>=1.0.5 in /home/amirmahdi/anaconda3/envs/RL_Project2/lib/python3.7/site-packages (from tensorflow==1.15) (1.1.2)\n",
      "Requirement already satisfied: opt-einsum>=2.3.2 in /home/amirmahdi/anaconda3/envs/RL_Project2/lib/python3.7/site-packages (from tensorflow==1.15) (3.3.0)\n",
      "Requirement already satisfied: termcolor>=1.1.0 in /home/amirmahdi/anaconda3/envs/RL_Project2/lib/python3.7/site-packages (from tensorflow==1.15) (1.1.0)\n",
      "Requirement already satisfied: h5py in /home/amirmahdi/anaconda3/envs/RL_Project2/lib/python3.7/site-packages (from keras-applications>=1.0.8->tensorflow==1.15) (3.6.0)\n",
      "Requirement already satisfied: setuptools>=41.0.0 in /home/amirmahdi/anaconda3/envs/RL_Project2/lib/python3.7/site-packages (from tensorboard<1.16.0,>=1.15.0->tensorflow==1.15) (58.0.4)\n",
      "Requirement already satisfied: werkzeug>=0.11.15 in /home/amirmahdi/anaconda3/envs/RL_Project2/lib/python3.7/site-packages (from tensorboard<1.16.0,>=1.15.0->tensorflow==1.15) (2.0.2)\n",
      "Requirement already satisfied: markdown>=2.6.8 in /home/amirmahdi/anaconda3/envs/RL_Project2/lib/python3.7/site-packages (from tensorboard<1.16.0,>=1.15.0->tensorflow==1.15) (3.3.6)\n",
      "Requirement already satisfied: importlib-metadata>=4.4 in /home/amirmahdi/anaconda3/envs/RL_Project2/lib/python3.7/site-packages (from markdown>=2.6.8->tensorboard<1.16.0,>=1.15.0->tensorflow==1.15) (4.8.2)\n",
      "Requirement already satisfied: typing-extensions>=3.6.4 in /home/amirmahdi/anaconda3/envs/RL_Project2/lib/python3.7/site-packages (from importlib-metadata>=4.4->markdown>=2.6.8->tensorboard<1.16.0,>=1.15.0->tensorflow==1.15) (4.0.0)\n",
      "Requirement already satisfied: zipp>=0.5 in /home/amirmahdi/anaconda3/envs/RL_Project2/lib/python3.7/site-packages (from importlib-metadata>=4.4->markdown>=2.6.8->tensorboard<1.16.0,>=1.15.0->tensorflow==1.15) (3.6.0)\n",
      "Requirement already satisfied: cached-property in /home/amirmahdi/anaconda3/envs/RL_Project2/lib/python3.7/site-packages (from h5py->keras-applications>=1.0.8->tensorflow==1.15) (1.5.2)\n",
      "Requirement already satisfied: stable-baselines[mpi]==2.10.2 in /home/amirmahdi/anaconda3/envs/RL_Project2/lib/python3.7/site-packages (2.10.2)\n",
      "Requirement already satisfied: opencv-python in /home/amirmahdi/anaconda3/envs/RL_Project2/lib/python3.7/site-packages (from stable-baselines[mpi]==2.10.2) (4.5.4.60)\n",
      "Requirement already satisfied: gym[atari,classic_control]>=0.11 in /home/amirmahdi/anaconda3/envs/RL_Project2/lib/python3.7/site-packages (from stable-baselines[mpi]==2.10.2) (0.21.0)\n",
      "Requirement already satisfied: numpy in /home/amirmahdi/anaconda3/envs/RL_Project2/lib/python3.7/site-packages (from stable-baselines[mpi]==2.10.2) (1.21.5)\n",
      "Requirement already satisfied: joblib in /home/amirmahdi/anaconda3/envs/RL_Project2/lib/python3.7/site-packages (from stable-baselines[mpi]==2.10.2) (1.1.0)\n",
      "Requirement already satisfied: cloudpickle>=0.5.5 in /home/amirmahdi/anaconda3/envs/RL_Project2/lib/python3.7/site-packages (from stable-baselines[mpi]==2.10.2) (2.0.0)\n",
      "Requirement already satisfied: scipy in /home/amirmahdi/anaconda3/envs/RL_Project2/lib/python3.7/site-packages (from stable-baselines[mpi]==2.10.2) (1.7.3)\n",
      "Requirement already satisfied: pandas in /home/amirmahdi/anaconda3/envs/RL_Project2/lib/python3.7/site-packages (from stable-baselines[mpi]==2.10.2) (1.3.4)\n",
      "Requirement already satisfied: matplotlib in /home/amirmahdi/anaconda3/envs/RL_Project2/lib/python3.7/site-packages (from stable-baselines[mpi]==2.10.2) (3.5.0)\n",
      "Requirement already satisfied: mpi4py in /home/amirmahdi/anaconda3/envs/RL_Project2/lib/python3.7/site-packages (from stable-baselines[mpi]==2.10.2) (3.1.3)\n",
      "Requirement already satisfied: importlib-metadata>=4.8.1 in /home/amirmahdi/anaconda3/envs/RL_Project2/lib/python3.7/site-packages (from gym[atari,classic_control]>=0.11->stable-baselines[mpi]==2.10.2) (4.8.2)\n",
      "Requirement already satisfied: pyglet>=1.4.0 in /home/amirmahdi/anaconda3/envs/RL_Project2/lib/python3.7/site-packages (from gym[atari,classic_control]>=0.11->stable-baselines[mpi]==2.10.2) (1.5.21)\n",
      "Requirement already satisfied: ale-py~=0.7.1 in /home/amirmahdi/anaconda3/envs/RL_Project2/lib/python3.7/site-packages (from gym[atari,classic_control]>=0.11->stable-baselines[mpi]==2.10.2) (0.7.3)\n",
      "Requirement already satisfied: importlib-resources in /home/amirmahdi/anaconda3/envs/RL_Project2/lib/python3.7/site-packages (from ale-py~=0.7.1->gym[atari,classic_control]>=0.11->stable-baselines[mpi]==2.10.2) (5.4.0)\n",
      "Requirement already satisfied: typing-extensions>=3.6.4 in /home/amirmahdi/anaconda3/envs/RL_Project2/lib/python3.7/site-packages (from importlib-metadata>=4.8.1->gym[atari,classic_control]>=0.11->stable-baselines[mpi]==2.10.2) (4.0.0)\n",
      "Requirement already satisfied: zipp>=0.5 in /home/amirmahdi/anaconda3/envs/RL_Project2/lib/python3.7/site-packages (from importlib-metadata>=4.8.1->gym[atari,classic_control]>=0.11->stable-baselines[mpi]==2.10.2) (3.6.0)\n",
      "Requirement already satisfied: python-dateutil>=2.7 in /home/amirmahdi/anaconda3/envs/RL_Project2/lib/python3.7/site-packages (from matplotlib->stable-baselines[mpi]==2.10.2) (2.8.2)\n",
      "Requirement already satisfied: pillow>=6.2.0 in /home/amirmahdi/anaconda3/envs/RL_Project2/lib/python3.7/site-packages (from matplotlib->stable-baselines[mpi]==2.10.2) (8.4.0)\n",
      "Requirement already satisfied: pyparsing>=2.2.1 in /home/amirmahdi/anaconda3/envs/RL_Project2/lib/python3.7/site-packages (from matplotlib->stable-baselines[mpi]==2.10.2) (3.0.4)\n",
      "Requirement already satisfied: setuptools-scm>=4 in /home/amirmahdi/anaconda3/envs/RL_Project2/lib/python3.7/site-packages (from matplotlib->stable-baselines[mpi]==2.10.2) (6.3.2)\n",
      "Requirement already satisfied: cycler>=0.10 in /home/amirmahdi/anaconda3/envs/RL_Project2/lib/python3.7/site-packages (from matplotlib->stable-baselines[mpi]==2.10.2) (0.11.0)\n",
      "Requirement already satisfied: kiwisolver>=1.0.1 in /home/amirmahdi/anaconda3/envs/RL_Project2/lib/python3.7/site-packages (from matplotlib->stable-baselines[mpi]==2.10.2) (1.3.2)\n",
      "Requirement already satisfied: fonttools>=4.22.0 in /home/amirmahdi/anaconda3/envs/RL_Project2/lib/python3.7/site-packages (from matplotlib->stable-baselines[mpi]==2.10.2) (4.28.2)\n",
      "Requirement already satisfied: packaging>=20.0 in /home/amirmahdi/anaconda3/envs/RL_Project2/lib/python3.7/site-packages (from matplotlib->stable-baselines[mpi]==2.10.2) (21.3)\n"
     ]
    },
    {
     "name": "stdout",
     "output_type": "stream",
     "text": [
      "Requirement already satisfied: six>=1.5 in /home/amirmahdi/anaconda3/envs/RL_Project2/lib/python3.7/site-packages (from python-dateutil>=2.7->matplotlib->stable-baselines[mpi]==2.10.2) (1.16.0)\n",
      "Requirement already satisfied: setuptools in /home/amirmahdi/anaconda3/envs/RL_Project2/lib/python3.7/site-packages (from setuptools-scm>=4->matplotlib->stable-baselines[mpi]==2.10.2) (58.0.4)\n",
      "Requirement already satisfied: tomli>=1.0.0 in /home/amirmahdi/anaconda3/envs/RL_Project2/lib/python3.7/site-packages (from setuptools-scm>=4->matplotlib->stable-baselines[mpi]==2.10.2) (1.2.2)\n",
      "Requirement already satisfied: pytz>=2017.3 in /home/amirmahdi/anaconda3/envs/RL_Project2/lib/python3.7/site-packages (from pandas->stable-baselines[mpi]==2.10.2) (2021.3)\n"
     ]
    }
   ],
   "source": [
    "!pip install tensorflow==1.15\n",
    "!pip install stable-baselines[mpi]==2.10.2"
   ]
  },
  {
   "cell_type": "code",
   "execution_count": 1,
   "id": "82fa891a",
   "metadata": {},
   "outputs": [],
   "source": [
    "import os\n",
    "import gym\n",
    "import numpy as np\n",
    "import pandas as pd\n",
    "from gym import spaces"
   ]
  },
  {
   "cell_type": "markdown",
   "id": "64813ea3",
   "metadata": {},
   "source": [
    "There are 6 possible log levels. Here it is a list of them starting from high verbosity to low:\n",
    "* 1. Trace : detail info for tracing\n",
    "* 2. Debug\n",
    "* 3. Info : important but normal\n",
    "* 4. Warn\n",
    "* 5. Error\n",
    "* 6. Fatal\n",
    "\n",
    "Among all these 6 log levels, we have decided to eliminate **Error** and **Fatal** as these two are mostly related to runtime behavioir while the information that our model try to make its logging decisions only comes from static source code features. There fore it does not have enough knowledge to decide about logs with Error and Fatal level.\n",
    "\n",
    "\n",
    "**Action space prespective:**\n",
    "\n",
    "\n",
    "<img src= \"images/action_space_implementations.png\" alt=\"alt text\"  />\n",
    "\n",
    "For the first run of the implementation we will consider all of the for levels (**Combined**), and after this we implement the other way to compare them together.\n",
    "\n",
    "For the first run implementatoin the **action space** takes **5** discrete values; \n",
    "* **\"0\"**: not_Log\n",
    "* **\"1\"**: Trace\n",
    "* **\"2\"**: Debug\n",
    "* **\"3\"**: Info\n",
    "* **\"4\"**: Warn\n",
    "\n",
    "**Observatio space prespective:**\n",
    "\n",
    "Observation space is going to be a vector (box) representing each function (rows of our dataset). It has shape of (1,14) it is a vector and we have 14 features to illusterate the fuction under study.\n",
    "\n",
    "**Reward Function:**\n",
    "\n",
    "<img src=\"images/reward_function.drawio.png\" />\n",
    "\n",
    "<img src=\"images/sigmoid1.png\" \n",
    " longdesc=\"https://www.wolframalpha.com/input?i=plot+%28%28sigmoid+function+0.3x+%29+minus+0.5+%29+multiply+by+2++from+-10+to+10\" title=\"from WolframAlpha\"/>\n",
    "\n",
    "<img src=\"images/sigmoid2.png\" />\n"
   ]
  },
  {
   "cell_type": "code",
   "execution_count": 26,
   "id": "fdc09d45",
   "metadata": {},
   "outputs": [],
   "source": [
    "class source_code_env(gym.Env):\n",
    "    metadata = {'render.modes': ['console']}\n",
    "    \n",
    "    number_of_actions = 5\n",
    "    \n",
    "    \n",
    "    actions = {\n",
    "        \"NOT_LOG\": 0,\n",
    "        \"TRACE\": 1,\n",
    "        \"DEBUG\": 2,\n",
    "        \"INFO\": 3,\n",
    "        \"WARN\": 4\n",
    "    }\n",
    "    \n",
    "    features_for_reward_func = {\n",
    "        \"number_of_loops\": 0,\n",
    "        \"nesting_level\": 1,\n",
    "        \"input_dependant_level\": 2,\n",
    "        \"number_of_defined_threads\": 3,\n",
    "        \"number_of_started_threads\": 4,\n",
    "        \"number_of_join_threads\": 5,\n",
    "        \"number_of_defined_locks\": 6,\n",
    "        \"number_of_acquired_locks_threads\": 7,\n",
    "        \"number_of_released_locks\": 8,\n",
    "        \"number_of_usage_of_extra\": 9,\n",
    "        \"number_of_usage_of_values_list\": 10,\n",
    "        \"number_of_usage_of_select_related\": 11\n",
    "    }\n",
    "    \n",
    "    \n",
    "    def __init__(self, dataset):\n",
    "        super(source_code_env, self).__init__()\n",
    "        self.dataset = dataset.copy()\n",
    "        self.action_space = spaces.Discrete(number_of_actions)\n",
    "        self.observation_space = spaces.Box(low= dataset.min().min(), \n",
    "                                            high= dataset.max().max(), \n",
    "                                            shape=(len(dataset.columns),))\n",
    "        self.t = 0\n",
    "        self.t_limit = len(dataset)\n",
    "        \n",
    "    def _action_determiner(self, obs):\n",
    "        pass\n",
    "    \n",
    "    def _sigmoid(self, x_coefficient):\n",
    "        pass\n",
    "    \n",
    "    def _reward(self, obs, taken_action):\n",
    "        \n",
    "        \"\"\"\n",
    "        arguments:\n",
    "        \n",
    "        obs: is supposed to be a vector (a row of the pandas dataframe);\n",
    "        taken action: is the action taken by model based on obs. Its value could be {0, 1 ... 4}.\n",
    "        \"\"\"\n",
    "        \"\"\"action_based_on_obs = None\n",
    "        \n",
    "        if(obs.sum() == 0):\n",
    "            action_based_on_obs = actions(\"NOT_LOG\")\n",
    "        else:\n",
    "            action_based_on_obs = actions(\"TRACE\")\"\"\"\n",
    "        \n",
    "        determined_action = _action_determiner(obs)\n",
    "        \n",
    "        if taken_action == determined_action: # if the answer is correct\n",
    "            reward = 1 + _sigmoid()\n",
    "        elif determined_action == 0 and taken_action != 0: # if it was not supposed to be logged but it logged\n",
    "            reward = -4 #Worse scenario 0 - 4\n",
    "        elif determined_action != 0 and taken_action == 0: # if it was supposed to be logged but it did not log\n",
    "            reward = -4 #Worse scenario 0 - 4\n",
    "        else: # wrong log level\n",
    "            reward = -abs(taken_action - determined_action) # will be -3 at the worse\n",
    "        \n",
    "    \n",
    "    def reset(self):\n",
    "        self.t = 0\n",
    "        obs = self.dataset.iloc[self.t].astype(np.float32)\n",
    "        return obs\n",
    "    \n",
    "    def step(self, action):\n",
    "        \n",
    "        done = False\n",
    "        \n",
    "        \n",
    "        if self.t >= self.t_limit:\n",
    "            done = True\n",
    "        \n",
    "        obs = self.dataset.iloc[self.t].astype(np.float32) # getting current observation to compute reward\n",
    "        reward = self._reward(obs, action)\n",
    "        self.t += 1\n",
    "        obs = self.dataset.iloc[self.t].astype(np.float32) # getting updated observation after taken action\n",
    "        \n",
    "        info={}\n",
    "        \n",
    "        return obs, reward, done, info"
   ]
  },
  {
   "cell_type": "markdown",
   "id": "cc76e4ee",
   "metadata": {},
   "source": [
    "# Future Work:\n",
    "\n",
    "* Ading Function names\n",
    "* Adding file names \n",
    "* TF-IDF\n",
    "* Read/Write\n",
    "* API MIsuses scenarios\n",
    "* GP\n",
    "* Trying different implementaton of reward function\n",
    "    * Adding \"NO_ACTION\" as one of the actions\n",
    "    * Mathematical implementation\n",
    "    * Negative Reward\n",
    "    * Normalization of the data\n",
    "* Adding more source code\n"
   ]
  },
  {
   "cell_type": "markdown",
   "id": "ff4528b7",
   "metadata": {},
   "source": [
    "# Garbage"
   ]
  },
  {
   "cell_type": "code",
   "execution_count": null,
   "id": "bd590358",
   "metadata": {},
   "outputs": [],
   "source": [
    "class LogEnvironment(gym.Env):\n",
    "    metadata = {'render.modes': ['console']}\n",
    "    \n",
    "    \n",
    "    def __init__(self,dataset, high = None, low = None):\n",
    "        super(LogEnvironment, self).__init__()\n",
    "        self.rewards = []\n",
    "        self.dataset = dataset\n",
    "        self.states = np.array(dataset.iloc[:,:-1])\n",
    "        self.state = 0\n",
    "        self.predict_classes = []\n",
    "        \n",
    "        n_actions = 4\n",
    "        self.action_space = spaces.Discrete(n_actions)\n",
    "        if high is None:\n",
    "            low = np.array(dataset.iloc[:,:-1].min()).astype(np.float32)\n",
    "            high = np.array(dataset.iloc[:,:-1].max()).astype(np.float32)\n",
    "            self.observation_space = spaces.Box(low=low, high=high, dtype=np.float32)\n",
    "        else:\n",
    "            self.observation_space = spaces.Box(low=low, high=high, dtype=np.float32)\n",
    "        \n",
    "    \n",
    "    def reset(self):\n",
    "        self.state = 0\n",
    "        LogEnvironment.predicts.append(self.predict_classes)\n",
    "        self.predict_classes = []\n",
    "        return self.states[self.state].astype(np.float32)\n",
    "    \n",
    "    def step(self, action):\n",
    "        if action == self.NoLog:\n",
    "            self.predict_classes.append(0)\n",
    "        elif action == self.Log:\n",
    "            self.predict_classes.append(1)\n",
    "        else:\n",
    "            raise ValueError(\"Received invalid action={} which is not part of the action space\".format(action))\n",
    "        \n",
    "        done = bool(self.state >= len(self.classes)-1)\n",
    "        \n",
    "        \n",
    "        \n",
    "        reward = 1 if self.predict_classes[self.state] == self.classes[self.state] else 0\n",
    "        self.rewards.append(reward)\n",
    "        \n",
    "        self.state += 0 if done else 1\n",
    "        \n",
    "        info = {}\n",
    "        \n",
    "        return self.states[self.state].astype(np.float32), reward, done, info\n",
    "        "
   ]
  },
  {
   "cell_type": "code",
   "execution_count": 37,
   "id": "fe9d9725",
   "metadata": {},
   "outputs": [],
   "source": [
    "class test:\n",
    "    d = []\n",
    "    p = 1\n",
    "    def __init__(self, dataset):\n",
    "        self.dataset = dataset.copy()\n",
    "        test.d.append(p)\n",
    "        \n",
    "    def fun(self):\n",
    "        self.dataset.append(\"a\")"
   ]
  },
  {
   "cell_type": "code",
   "execution_count": 38,
   "id": "2d0a8645",
   "metadata": {},
   "outputs": [
    {
     "ename": "NameError",
     "evalue": "name 'p' is not defined",
     "output_type": "error",
     "traceback": [
      "\u001b[0;31m---------------------------------------------------------------------------\u001b[0m",
      "\u001b[0;31mNameError\u001b[0m                                 Traceback (most recent call last)",
      "\u001b[0;32m/tmp/ipykernel_19370/3393790938.py\u001b[0m in \u001b[0;36m<module>\u001b[0;34m\u001b[0m\n\u001b[1;32m      1\u001b[0m \u001b[0mlst\u001b[0m \u001b[0;34m=\u001b[0m \u001b[0;34m[\u001b[0m\u001b[0;34m\"Amir\"\u001b[0m\u001b[0;34m]\u001b[0m\u001b[0;34m\u001b[0m\u001b[0;34m\u001b[0m\u001b[0m\n\u001b[0;32m----> 2\u001b[0;31m \u001b[0mcls\u001b[0m \u001b[0;34m=\u001b[0m \u001b[0mtest\u001b[0m\u001b[0;34m(\u001b[0m\u001b[0mlst\u001b[0m\u001b[0;34m)\u001b[0m\u001b[0;34m\u001b[0m\u001b[0;34m\u001b[0m\u001b[0m\n\u001b[0m",
      "\u001b[0;32m/tmp/ipykernel_19370/842993380.py\u001b[0m in \u001b[0;36m__init__\u001b[0;34m(self, dataset)\u001b[0m\n\u001b[1;32m      4\u001b[0m     \u001b[0;32mdef\u001b[0m \u001b[0m__init__\u001b[0m\u001b[0;34m(\u001b[0m\u001b[0mself\u001b[0m\u001b[0;34m,\u001b[0m \u001b[0mdataset\u001b[0m\u001b[0;34m)\u001b[0m\u001b[0;34m:\u001b[0m\u001b[0;34m\u001b[0m\u001b[0;34m\u001b[0m\u001b[0m\n\u001b[1;32m      5\u001b[0m         \u001b[0mself\u001b[0m\u001b[0;34m.\u001b[0m\u001b[0mdataset\u001b[0m \u001b[0;34m=\u001b[0m \u001b[0mdataset\u001b[0m\u001b[0;34m.\u001b[0m\u001b[0mcopy\u001b[0m\u001b[0;34m(\u001b[0m\u001b[0;34m)\u001b[0m\u001b[0;34m\u001b[0m\u001b[0;34m\u001b[0m\u001b[0m\n\u001b[0;32m----> 6\u001b[0;31m         \u001b[0mtest\u001b[0m\u001b[0;34m.\u001b[0m\u001b[0md\u001b[0m\u001b[0;34m.\u001b[0m\u001b[0mappend\u001b[0m\u001b[0;34m(\u001b[0m\u001b[0mp\u001b[0m\u001b[0;34m)\u001b[0m\u001b[0;34m\u001b[0m\u001b[0;34m\u001b[0m\u001b[0m\n\u001b[0m\u001b[1;32m      7\u001b[0m \u001b[0;34m\u001b[0m\u001b[0m\n\u001b[1;32m      8\u001b[0m     \u001b[0;32mdef\u001b[0m \u001b[0mfun\u001b[0m\u001b[0;34m(\u001b[0m\u001b[0mself\u001b[0m\u001b[0;34m)\u001b[0m\u001b[0;34m:\u001b[0m\u001b[0;34m\u001b[0m\u001b[0;34m\u001b[0m\u001b[0m\n",
      "\u001b[0;31mNameError\u001b[0m: name 'p' is not defined"
     ]
    }
   ],
   "source": [
    "lst = [\"Amir\"]\n",
    "cls = test(lst)"
   ]
  },
  {
   "cell_type": "code",
   "execution_count": 36,
   "id": "3d52aca9",
   "metadata": {},
   "outputs": [
    {
     "data": {
      "text/plain": [
       "['Amir']"
      ]
     },
     "execution_count": 36,
     "metadata": {},
     "output_type": "execute_result"
    }
   ],
   "source": [
    "lst"
   ]
  },
  {
   "cell_type": "code",
   "execution_count": 35,
   "id": "a61c2339",
   "metadata": {},
   "outputs": [
    {
     "data": {
      "text/plain": [
       "['Amir', 'a']"
      ]
     },
     "execution_count": 35,
     "metadata": {},
     "output_type": "execute_result"
    }
   ],
   "source": [
    "cls.dataset"
   ]
  },
  {
   "cell_type": "code",
   "execution_count": 33,
   "id": "a3eb7515",
   "metadata": {},
   "outputs": [
    {
     "data": {
      "text/plain": [
       "['b']"
      ]
     },
     "execution_count": 33,
     "metadata": {},
     "output_type": "execute_result"
    }
   ],
   "source": [
    "cls.d"
   ]
  },
  {
   "cell_type": "code",
   "execution_count": 6,
   "id": "16d362c9",
   "metadata": {},
   "outputs": [
    {
     "data": {
      "text/plain": [
       "0"
      ]
     },
     "execution_count": 6,
     "metadata": {},
     "output_type": "execute_result"
    }
   ],
   "source": [
    "features_for_reward_func = {\n",
    "        \"number_of_loops\": 0,\n",
    "        \"nesting_level\": 1,\n",
    "        \"input_dependant_level\": 2,\n",
    "        \"number_of_defined_threads\": 3,\n",
    "        \"number_of_started_threads\": 4,\n",
    "        \"number_of_join_threads\": 5,\n",
    "        \"number_of_defined_locks\": 6,\n",
    "        \"number_of_acquired_locks_threads\": 7,\n",
    "        \"number_of_released_locks\": 8,\n",
    "        \"number_of_usage_of_extra\": 9,\n",
    "        \"number_of_usage_of_values_list\": 10,\n",
    "        \"number_of_usage_of_select_related\": 11\n",
    "    }\n",
    "features_for_reward_func[\"number_of_loops\"]"
   ]
  }
 ],
 "metadata": {
  "kernelspec": {
   "display_name": "Python 3 (ipykernel)",
   "language": "python",
   "name": "python3"
  },
  "language_info": {
   "codemirror_mode": {
    "name": "ipython",
    "version": 3
   },
   "file_extension": ".py",
   "mimetype": "text/x-python",
   "name": "python",
   "nbconvert_exporter": "python",
   "pygments_lexer": "ipython3",
   "version": "3.7.11"
  }
 },
 "nbformat": 4,
 "nbformat_minor": 5
}
