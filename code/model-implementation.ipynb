{
 "cells": [
  {
   "cell_type": "code",
   "execution_count": 1,
   "id": "c399b1a2",
   "metadata": {
    "collapsed": true
   },
   "outputs": [
    {
     "name": "stdout",
     "output_type": "stream",
     "text": [
      "Requirement already satisfied: tensorflow==1.15 in /home/amirmahdi/anaconda3/envs/RL_Project2/lib/python3.7/site-packages (1.15.0)\n",
      "Requirement already satisfied: tensorflow-estimator==1.15.1 in /home/amirmahdi/anaconda3/envs/RL_Project2/lib/python3.7/site-packages (from tensorflow==1.15) (1.15.1)\n",
      "Requirement already satisfied: numpy<2.0,>=1.16.0 in /home/amirmahdi/anaconda3/envs/RL_Project2/lib/python3.7/site-packages (from tensorflow==1.15) (1.21.5)\n",
      "Requirement already satisfied: google-pasta>=0.1.6 in /home/amirmahdi/anaconda3/envs/RL_Project2/lib/python3.7/site-packages (from tensorflow==1.15) (0.2.0)\n",
      "Requirement already satisfied: wheel>=0.26 in /home/amirmahdi/anaconda3/envs/RL_Project2/lib/python3.7/site-packages (from tensorflow==1.15) (0.37.0)\n",
      "Requirement already satisfied: keras-applications>=1.0.8 in /home/amirmahdi/anaconda3/envs/RL_Project2/lib/python3.7/site-packages (from tensorflow==1.15) (1.0.8)\n",
      "Requirement already satisfied: absl-py>=0.7.0 in /home/amirmahdi/anaconda3/envs/RL_Project2/lib/python3.7/site-packages (from tensorflow==1.15) (1.0.0)\n",
      "Requirement already satisfied: protobuf>=3.6.1 in /home/amirmahdi/anaconda3/envs/RL_Project2/lib/python3.7/site-packages (from tensorflow==1.15) (3.19.1)\n",
      "Requirement already satisfied: grpcio>=1.8.6 in /home/amirmahdi/anaconda3/envs/RL_Project2/lib/python3.7/site-packages (from tensorflow==1.15) (1.42.0)\n",
      "Requirement already satisfied: astor>=0.6.0 in /home/amirmahdi/anaconda3/envs/RL_Project2/lib/python3.7/site-packages (from tensorflow==1.15) (0.8.1)\n",
      "Requirement already satisfied: tensorboard<1.16.0,>=1.15.0 in /home/amirmahdi/anaconda3/envs/RL_Project2/lib/python3.7/site-packages (from tensorflow==1.15) (1.15.0)\n",
      "Requirement already satisfied: wrapt>=1.11.1 in /home/amirmahdi/anaconda3/envs/RL_Project2/lib/python3.7/site-packages (from tensorflow==1.15) (1.13.3)\n",
      "Requirement already satisfied: gast==0.2.2 in /home/amirmahdi/anaconda3/envs/RL_Project2/lib/python3.7/site-packages (from tensorflow==1.15) (0.2.2)\n",
      "Requirement already satisfied: six>=1.10.0 in /home/amirmahdi/anaconda3/envs/RL_Project2/lib/python3.7/site-packages (from tensorflow==1.15) (1.16.0)\n",
      "Requirement already satisfied: keras-preprocessing>=1.0.5 in /home/amirmahdi/anaconda3/envs/RL_Project2/lib/python3.7/site-packages (from tensorflow==1.15) (1.1.2)\n",
      "Requirement already satisfied: opt-einsum>=2.3.2 in /home/amirmahdi/anaconda3/envs/RL_Project2/lib/python3.7/site-packages (from tensorflow==1.15) (3.3.0)\n",
      "Requirement already satisfied: termcolor>=1.1.0 in /home/amirmahdi/anaconda3/envs/RL_Project2/lib/python3.7/site-packages (from tensorflow==1.15) (1.1.0)\n",
      "Requirement already satisfied: h5py in /home/amirmahdi/anaconda3/envs/RL_Project2/lib/python3.7/site-packages (from keras-applications>=1.0.8->tensorflow==1.15) (3.6.0)\n",
      "Requirement already satisfied: setuptools>=41.0.0 in /home/amirmahdi/anaconda3/envs/RL_Project2/lib/python3.7/site-packages (from tensorboard<1.16.0,>=1.15.0->tensorflow==1.15) (58.0.4)\n",
      "Requirement already satisfied: werkzeug>=0.11.15 in /home/amirmahdi/anaconda3/envs/RL_Project2/lib/python3.7/site-packages (from tensorboard<1.16.0,>=1.15.0->tensorflow==1.15) (2.0.2)\n",
      "Requirement already satisfied: markdown>=2.6.8 in /home/amirmahdi/anaconda3/envs/RL_Project2/lib/python3.7/site-packages (from tensorboard<1.16.0,>=1.15.0->tensorflow==1.15) (3.3.6)\n",
      "Requirement already satisfied: importlib-metadata>=4.4 in /home/amirmahdi/anaconda3/envs/RL_Project2/lib/python3.7/site-packages (from markdown>=2.6.8->tensorboard<1.16.0,>=1.15.0->tensorflow==1.15) (4.8.2)\n",
      "Requirement already satisfied: typing-extensions>=3.6.4 in /home/amirmahdi/anaconda3/envs/RL_Project2/lib/python3.7/site-packages (from importlib-metadata>=4.4->markdown>=2.6.8->tensorboard<1.16.0,>=1.15.0->tensorflow==1.15) (4.0.0)\n",
      "Requirement already satisfied: zipp>=0.5 in /home/amirmahdi/anaconda3/envs/RL_Project2/lib/python3.7/site-packages (from importlib-metadata>=4.4->markdown>=2.6.8->tensorboard<1.16.0,>=1.15.0->tensorflow==1.15) (3.6.0)\n",
      "Requirement already satisfied: cached-property in /home/amirmahdi/anaconda3/envs/RL_Project2/lib/python3.7/site-packages (from h5py->keras-applications>=1.0.8->tensorflow==1.15) (1.5.2)\n",
      "Requirement already satisfied: stable-baselines[mpi]==2.10.2 in /home/amirmahdi/anaconda3/envs/RL_Project2/lib/python3.7/site-packages (2.10.2)\n",
      "Requirement already satisfied: opencv-python in /home/amirmahdi/anaconda3/envs/RL_Project2/lib/python3.7/site-packages (from stable-baselines[mpi]==2.10.2) (4.5.4.60)\n",
      "Requirement already satisfied: gym[atari,classic_control]>=0.11 in /home/amirmahdi/anaconda3/envs/RL_Project2/lib/python3.7/site-packages (from stable-baselines[mpi]==2.10.2) (0.21.0)\n",
      "Requirement already satisfied: numpy in /home/amirmahdi/anaconda3/envs/RL_Project2/lib/python3.7/site-packages (from stable-baselines[mpi]==2.10.2) (1.21.5)\n",
      "Requirement already satisfied: joblib in /home/amirmahdi/anaconda3/envs/RL_Project2/lib/python3.7/site-packages (from stable-baselines[mpi]==2.10.2) (1.1.0)\n",
      "Requirement already satisfied: cloudpickle>=0.5.5 in /home/amirmahdi/anaconda3/envs/RL_Project2/lib/python3.7/site-packages (from stable-baselines[mpi]==2.10.2) (2.0.0)\n",
      "Requirement already satisfied: scipy in /home/amirmahdi/anaconda3/envs/RL_Project2/lib/python3.7/site-packages (from stable-baselines[mpi]==2.10.2) (1.7.3)\n",
      "Requirement already satisfied: pandas in /home/amirmahdi/anaconda3/envs/RL_Project2/lib/python3.7/site-packages (from stable-baselines[mpi]==2.10.2) (1.3.4)\n",
      "Requirement already satisfied: matplotlib in /home/amirmahdi/anaconda3/envs/RL_Project2/lib/python3.7/site-packages (from stable-baselines[mpi]==2.10.2) (3.5.0)\n",
      "Requirement already satisfied: mpi4py in /home/amirmahdi/anaconda3/envs/RL_Project2/lib/python3.7/site-packages (from stable-baselines[mpi]==2.10.2) (3.1.3)\n",
      "Requirement already satisfied: importlib-metadata>=4.8.1 in /home/amirmahdi/anaconda3/envs/RL_Project2/lib/python3.7/site-packages (from gym[atari,classic_control]>=0.11->stable-baselines[mpi]==2.10.2) (4.8.2)\n",
      "Requirement already satisfied: pyglet>=1.4.0 in /home/amirmahdi/anaconda3/envs/RL_Project2/lib/python3.7/site-packages (from gym[atari,classic_control]>=0.11->stable-baselines[mpi]==2.10.2) (1.5.21)\n",
      "Requirement already satisfied: ale-py~=0.7.1 in /home/amirmahdi/anaconda3/envs/RL_Project2/lib/python3.7/site-packages (from gym[atari,classic_control]>=0.11->stable-baselines[mpi]==2.10.2) (0.7.3)\n",
      "Requirement already satisfied: importlib-resources in /home/amirmahdi/anaconda3/envs/RL_Project2/lib/python3.7/site-packages (from ale-py~=0.7.1->gym[atari,classic_control]>=0.11->stable-baselines[mpi]==2.10.2) (5.4.0)\n",
      "Requirement already satisfied: typing-extensions>=3.6.4 in /home/amirmahdi/anaconda3/envs/RL_Project2/lib/python3.7/site-packages (from importlib-metadata>=4.8.1->gym[atari,classic_control]>=0.11->stable-baselines[mpi]==2.10.2) (4.0.0)\n",
      "Requirement already satisfied: zipp>=0.5 in /home/amirmahdi/anaconda3/envs/RL_Project2/lib/python3.7/site-packages (from importlib-metadata>=4.8.1->gym[atari,classic_control]>=0.11->stable-baselines[mpi]==2.10.2) (3.6.0)\n",
      "Requirement already satisfied: python-dateutil>=2.7 in /home/amirmahdi/anaconda3/envs/RL_Project2/lib/python3.7/site-packages (from matplotlib->stable-baselines[mpi]==2.10.2) (2.8.2)\n",
      "Requirement already satisfied: pillow>=6.2.0 in /home/amirmahdi/anaconda3/envs/RL_Project2/lib/python3.7/site-packages (from matplotlib->stable-baselines[mpi]==2.10.2) (8.4.0)\n",
      "Requirement already satisfied: pyparsing>=2.2.1 in /home/amirmahdi/anaconda3/envs/RL_Project2/lib/python3.7/site-packages (from matplotlib->stable-baselines[mpi]==2.10.2) (3.0.4)\n",
      "Requirement already satisfied: setuptools-scm>=4 in /home/amirmahdi/anaconda3/envs/RL_Project2/lib/python3.7/site-packages (from matplotlib->stable-baselines[mpi]==2.10.2) (6.3.2)\n",
      "Requirement already satisfied: cycler>=0.10 in /home/amirmahdi/anaconda3/envs/RL_Project2/lib/python3.7/site-packages (from matplotlib->stable-baselines[mpi]==2.10.2) (0.11.0)\n",
      "Requirement already satisfied: kiwisolver>=1.0.1 in /home/amirmahdi/anaconda3/envs/RL_Project2/lib/python3.7/site-packages (from matplotlib->stable-baselines[mpi]==2.10.2) (1.3.2)\n",
      "Requirement already satisfied: fonttools>=4.22.0 in /home/amirmahdi/anaconda3/envs/RL_Project2/lib/python3.7/site-packages (from matplotlib->stable-baselines[mpi]==2.10.2) (4.28.2)\n",
      "Requirement already satisfied: packaging>=20.0 in /home/amirmahdi/anaconda3/envs/RL_Project2/lib/python3.7/site-packages (from matplotlib->stable-baselines[mpi]==2.10.2) (21.3)\n"
     ]
    },
    {
     "name": "stdout",
     "output_type": "stream",
     "text": [
      "Requirement already satisfied: six>=1.5 in /home/amirmahdi/anaconda3/envs/RL_Project2/lib/python3.7/site-packages (from python-dateutil>=2.7->matplotlib->stable-baselines[mpi]==2.10.2) (1.16.0)\n",
      "Requirement already satisfied: setuptools in /home/amirmahdi/anaconda3/envs/RL_Project2/lib/python3.7/site-packages (from setuptools-scm>=4->matplotlib->stable-baselines[mpi]==2.10.2) (58.0.4)\n",
      "Requirement already satisfied: tomli>=1.0.0 in /home/amirmahdi/anaconda3/envs/RL_Project2/lib/python3.7/site-packages (from setuptools-scm>=4->matplotlib->stable-baselines[mpi]==2.10.2) (1.2.2)\n",
      "Requirement already satisfied: pytz>=2017.3 in /home/amirmahdi/anaconda3/envs/RL_Project2/lib/python3.7/site-packages (from pandas->stable-baselines[mpi]==2.10.2) (2021.3)\n"
     ]
    }
   ],
   "source": [
    "!pip install tensorflow==1.15\n",
    "!pip install stable-baselines[mpi]==2.10.2"
   ]
  },
  {
   "cell_type": "code",
   "execution_count": 2,
   "id": "82fa891a",
   "metadata": {
    "collapsed": true
   },
   "outputs": [
    {
     "name": "stderr",
     "output_type": "stream",
     "text": [
      "/home/amirmahdi/anaconda3/envs/RL_Project2/lib/python3.7/site-packages/ale_py/roms/utils.py:90: DeprecationWarning: SelectableGroups dict interface is deprecated. Use select.\n",
      "  for external in metadata.entry_points().get(self.group, []):\n"
     ]
    }
   ],
   "source": [
    "import os\n",
    "import gym\n",
    "import numpy as np\n",
    "import pandas as pd\n",
    "from gym import spaces"
   ]
  },
  {
   "cell_type": "code",
   "execution_count": null,
   "id": "bd590358",
   "metadata": {},
   "outputs": [],
   "source": [
    "class LogEnvironment(gym.Env):\n",
    "    metadata = {'render.modes': ['console']}\n",
    "    \n",
    "    num_envs = 1\n",
    "    NoLog = 0\n",
    "    Log = 1\n",
    "    predicts=[]\n",
    "    \n",
    "    def __init__(self,dataset, high = None, low = None):\n",
    "        super(LogEnvironment, self).__init__()\n",
    "        self.rewards = []\n",
    "        self.dataset = dataset\n",
    "        self.states = np.array(dataset.iloc[:,:-1])\n",
    "        self.state = 0\n",
    "        self.predict_classes = []\n",
    "        \n",
    "        n_actions = 2\n",
    "        self.action_space = spaces.Discrete(n_actions)\n",
    "        if high is None:\n",
    "            low = np.array(dataset.iloc[:,:-1].min()).astype(np.float32)\n",
    "            high = np.array(dataset.iloc[:,:-1].max()).astype(np.float32)\n",
    "            self.observation_space = spaces.Box(low=low, high=high, dtype=np.float32)\n",
    "        else:\n",
    "            self.observation_space = spaces.Box(low=low, high=high, dtype=np.float32)\n",
    "        \n",
    "    \n",
    "    def reset(self):\n",
    "        self.state = 0\n",
    "        LogEnvironment.predicts.append(self.predict_classes)\n",
    "        self.predict_classes = []\n",
    "        return self.states[self.state].astype(np.float32)\n",
    "    \n",
    "    def step(self, action):\n",
    "        if action == self.NoLog:\n",
    "            self.predict_classes.append(0)\n",
    "        elif action == self.Log:\n",
    "            self.predict_classes.append(1)\n",
    "        else:\n",
    "            raise ValueError(\"Received invalid action={} which is not part of the action space\".format(action))\n",
    "        \n",
    "        done = bool(self.state >= len(self.classes)-1)\n",
    "        \n",
    "        \n",
    "        \n",
    "        reward = 1 if self.predict_classes[self.state] == self.classes[self.state] else 0\n",
    "        self.rewards.append(reward)\n",
    "        \n",
    "        self.state += 0 if done else 1\n",
    "        \n",
    "        info = {}\n",
    "        \n",
    "        return self.states[self.state].astype(np.float32), reward, done, info\n",
    "        "
   ]
  }
 ],
 "metadata": {
  "kernelspec": {
   "display_name": "Python 3 (ipykernel)",
   "language": "python",
   "name": "python3"
  },
  "language_info": {
   "codemirror_mode": {
    "name": "ipython",
    "version": 3
   },
   "file_extension": ".py",
   "mimetype": "text/x-python",
   "name": "python",
   "nbconvert_exporter": "python",
   "pygments_lexer": "ipython3",
   "version": "3.7.11"
  }
 },
 "nbformat": 4,
 "nbformat_minor": 5
}
