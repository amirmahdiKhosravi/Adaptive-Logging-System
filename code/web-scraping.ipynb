{
 "cells": [
  {
   "cell_type": "code",
   "execution_count": 3,
   "id": "f0d25cec",
   "metadata": {
    "collapsed": true
   },
   "outputs": [
    {
     "name": "stdout",
     "output_type": "stream",
     "text": [
      "Collecting requests\n",
      "  Downloading requests-2.31.0-py3-none-any.whl (62 kB)\n",
      "\u001b[K     |████████████████████████████████| 62 kB 77 kB/s  eta 0:00:01\n",
      "\u001b[?25hCollecting idna<4,>=2.5\n",
      "  Downloading idna-3.4-py3-none-any.whl (61 kB)\n",
      "\u001b[K     |████████████████████████████████| 61 kB 75 kB/s  eta 0:00:01\n",
      "\u001b[?25hCollecting urllib3<3,>=1.21.1\n",
      "  Downloading urllib3-2.0.3-py3-none-any.whl (123 kB)\n",
      "\u001b[K     |████████████████████████████████| 123 kB 3.7 MB/s eta 0:00:01\n",
      "\u001b[?25hCollecting charset-normalizer<4,>=2\n",
      "  Downloading charset_normalizer-3.2.0-cp37-cp37m-manylinux_2_17_x86_64.manylinux2014_x86_64.whl (175 kB)\n",
      "\u001b[K     |████████████████████████████████| 175 kB 4.6 MB/s eta 0:00:01\n",
      "\u001b[?25hRequirement already satisfied: certifi>=2017.4.17 in /home/amirmahdi/anaconda3/envs/RL_Project2/lib/python3.7/site-packages (from requests) (2022.6.15)\n",
      "Installing collected packages: urllib3, idna, charset-normalizer, requests\n",
      "Successfully installed charset-normalizer-3.2.0 idna-3.4 requests-2.31.0 urllib3-2.0.3\n"
     ]
    }
   ],
   "source": [
    "!pip install requests"
   ]
  },
  {
   "cell_type": "code",
   "execution_count": 8,
   "id": "acb5e53c",
   "metadata": {
    "collapsed": true
   },
   "outputs": [
    {
     "name": "stdout",
     "output_type": "stream",
     "text": [
      "Collecting PyGithub\n",
      "  Downloading PyGithub-1.59.0-py3-none-any.whl (342 kB)\n",
      "\u001b[K     |████████████████████████████████| 342 kB 3.8 MB/s eta 0:00:01\n",
      "\u001b[?25hRequirement already satisfied: requests>=2.14.0 in /home/amirmahdi/anaconda3/envs/RL_Project2/lib/python3.7/site-packages (from PyGithub) (2.31.0)\n",
      "Collecting pyjwt[crypto]>=2.4.0\n",
      "  Downloading PyJWT-2.8.0-py3-none-any.whl (22 kB)\n",
      "Collecting pynacl>=1.4.0\n",
      "  Downloading PyNaCl-1.5.0-cp36-abi3-manylinux_2_17_x86_64.manylinux2014_x86_64.manylinux_2_24_x86_64.whl (856 kB)\n",
      "\u001b[K     |████████████████████████████████| 856 kB 3.3 MB/s eta 0:00:01\n",
      "\u001b[?25hCollecting deprecated\n",
      "  Downloading Deprecated-1.2.14-py2.py3-none-any.whl (9.6 kB)\n",
      "Requirement already satisfied: typing-extensions in /home/amirmahdi/anaconda3/envs/RL_Project2/lib/python3.7/site-packages (from pyjwt[crypto]>=2.4.0->PyGithub) (4.0.0)\n",
      "Collecting cryptography>=3.4.0\n",
      "  Downloading cryptography-41.0.2-cp37-abi3-manylinux_2_28_x86_64.whl (4.3 MB)\n",
      "\u001b[K     |████████████████████████████████| 4.3 MB 4.3 MB/s eta 0:00:01\n",
      "\u001b[?25hRequirement already satisfied: cffi>=1.12 in /home/amirmahdi/anaconda3/envs/RL_Project2/lib/python3.7/site-packages (from cryptography>=3.4.0->pyjwt[crypto]>=2.4.0->PyGithub) (1.14.6)\n",
      "Requirement already satisfied: pycparser in /home/amirmahdi/anaconda3/envs/RL_Project2/lib/python3.7/site-packages (from cffi>=1.12->cryptography>=3.4.0->pyjwt[crypto]>=2.4.0->PyGithub) (2.21)\n",
      "Requirement already satisfied: charset-normalizer<4,>=2 in /home/amirmahdi/anaconda3/envs/RL_Project2/lib/python3.7/site-packages (from requests>=2.14.0->PyGithub) (3.2.0)\n",
      "Requirement already satisfied: idna<4,>=2.5 in /home/amirmahdi/anaconda3/envs/RL_Project2/lib/python3.7/site-packages (from requests>=2.14.0->PyGithub) (3.4)\n",
      "Requirement already satisfied: urllib3<3,>=1.21.1 in /home/amirmahdi/anaconda3/envs/RL_Project2/lib/python3.7/site-packages (from requests>=2.14.0->PyGithub) (2.0.3)\n",
      "Requirement already satisfied: certifi>=2017.4.17 in /home/amirmahdi/anaconda3/envs/RL_Project2/lib/python3.7/site-packages (from requests>=2.14.0->PyGithub) (2022.6.15)\n",
      "Requirement already satisfied: wrapt<2,>=1.10 in /home/amirmahdi/anaconda3/envs/RL_Project2/lib/python3.7/site-packages (from deprecated->PyGithub) (1.13.3)\n",
      "Installing collected packages: pyjwt, cryptography, pynacl, deprecated, PyGithub\n",
      "Successfully installed PyGithub-1.59.0 cryptography-41.0.2 deprecated-1.2.14 pyjwt-2.8.0 pynacl-1.5.0\n"
     ]
    }
   ],
   "source": [
    "!pip install PyGithub"
   ]
  },
  {
   "cell_type": "code",
   "execution_count": 1,
   "id": "457dfe74",
   "metadata": {},
   "outputs": [],
   "source": [
    "import requests\n",
    "from github import Github"
   ]
  },
  {
   "cell_type": "markdown",
   "id": "34882e91",
   "metadata": {},
   "source": [
    "# Main\n",
    "\n",
    "1. [x] Getting the Json \n",
    "2. [x] Learning the structure of it\n",
    "3. [x] Looking for the files with .py extension through json in the whole repository\n",
    "4. [ ] Exporting the directory of that files\n",
    "5. [x] Getting access to the code inside our desired file of the given directory\n",
    "6. [ ] Writing (saving) it in our own repository.\n",
    "7. [ ] Find a meaningful name for the files  \n",
    "...........................................\n",
    "8. [ ] Organizing the code here\n",
    "9. [ ] Connect it to the other parts"
   ]
  },
  {
   "cell_type": "code",
   "execution_count": 51,
   "id": "90309356",
   "metadata": {},
   "outputs": [],
   "source": [
    "def read_file_content(repo_url, file_path, access_token=None):\n",
    "    g = Github(access_token) if access_token else Github()\n",
    "    print(\"file path: \", file_path)\n",
    "    repo = g.get_repo(repo_url)\n",
    "    print(file_path)\n",
    "    file = repo.get_contents(file_path)\n",
    "    file_content = file.decoded_content.decode('utf-8')\n",
    "    return file_content"
   ]
  },
  {
   "cell_type": "code",
   "execution_count": 53,
   "id": "c3a1188e",
   "metadata": {},
   "outputs": [],
   "source": [
    "def file_finder_and_writer(folders_and_files, repo_url, file_path):\n",
    "    stack = folders_and_files\n",
    "    file_path_main = file_path\n",
    "    while stack:\n",
    "        file_path = file_path_main\n",
    "        dic = stack.pop()\n",
    "        if dic['contentType'] == 'file':\n",
    "            path = dic['path']\n",
    "            if path.split(\".\")[-1] == \"py\":\n",
    "                #if file_path == None:\n",
    "                #file_path = repo_url.split('/')[1] + '/' + path\n",
    "                file_path = file_path + '/' + path\n",
    "                # look at previous block\n",
    "                file_content = read_file_content(repo_url, file_path)\n",
    "                file_name_parts = file_path.split('/')\n",
    "                print(file_name_parts)\n",
    "                #file_name_parts.append(file_path)\n",
    "                file_name = '_'.join(file_name_parts)\n",
    "                dir_to_write = 'projects-to-investigate/' + file_name\n",
    "                with open(dir_to_write, 'w') as f:\n",
    "                    f.write(file_content)\n",
    "        elif dic['contentType'] == 'directory':\n",
    "            repo_url = repo_url \n",
    "            file_path = file_path + '/' + dic['path']\n",
    "            file_finder_and_writer(folders_and_files, repo_url, file_path)"
   ]
  },
  {
   "cell_type": "code",
   "execution_count": 56,
   "id": "ffcd1fd9",
   "metadata": {},
   "outputs": [],
   "source": [
    "def download_files(url, extension):\n",
    "    response = requests.get(url)\n",
    "    response.raise_for_status()  # Check for any errors\n",
    "\n",
    "    # Parse the response content as JSON\n",
    "    content = response.json()\n",
    "    \n",
    "    print(content[\"payload\"].keys(), \"\\n\")\n",
    "    print(content[\"payload\"][\"fileTree\"]['']['items'])\n",
    "    \n",
    "    folders_and_files = content[\"payload\"][\"fileTree\"]['']['items']\n",
    "    repo_url = url.split('//')[1].split('.')[1].split('/')[1:3] #https// .com /username/repositoryname\n",
    "    repo_url = '/'.join(repo_url)\n",
    "    #look at previous block\n",
    "    file_finder_and_writer(folders_and_files, repo_url, \"\")\n",
    "\n",
    "    \"\"\"for file in content:\n",
    "        if file['name'].endswith(extension):\n",
    "            file_url = file['download_url']\n",
    "            file_content = requests.get(file_url).text\n",
    "\"\"\""
   ]
  },
  {
   "cell_type": "code",
   "execution_count": 57,
   "id": "8e07e3e5",
   "metadata": {
    "scrolled": true
   },
   "outputs": [
    {
     "name": "stdout",
     "output_type": "stream",
     "text": [
      "dict_keys(['allShortcutsEnabled', 'path', 'repo', 'currentUser', 'refInfo', 'tree', 'fileTree', 'fileTreeProcessingTime', 'foldersToFetch', 'showSurveyBanner', 'showCodeNavSurvey', 'csrf_tokens']) \n",
      "\n",
      "[{'name': 'figure', 'path': 'figure', 'contentType': 'directory'}, {'name': 'slimevolleygym', 'path': 'slimevolleygym', 'contentType': 'directory'}, {'name': 'training_scripts', 'path': 'training_scripts', 'contentType': 'directory'}, {'name': 'zoo', 'path': 'zoo', 'contentType': 'directory'}, {'name': 'LICENSE', 'path': 'LICENSE', 'contentType': 'file'}, {'name': 'README.md', 'path': 'README.md', 'contentType': 'file'}, {'name': 'TRAINING.md', 'path': 'TRAINING.md', 'contentType': 'file'}, {'name': 'eval_agents.py', 'path': 'eval_agents.py', 'contentType': 'file'}, {'name': 'eval_ppo.py', 'path': 'eval_ppo.py', 'contentType': 'file'}, {'name': 'eval_ppo_pixel.py', 'path': 'eval_ppo_pixel.py', 'contentType': 'file'}, {'name': 'requirements.txt', 'path': 'requirements.txt', 'contentType': 'file'}, {'name': 'setup.py', 'path': 'setup.py', 'contentType': 'file'}, {'name': 'test_atari.py', 'path': 'test_atari.py', 'contentType': 'file'}, {'name': 'test_pixel.py', 'path': 'test_pixel.py', 'contentType': 'file'}, {'name': 'test_state.py', 'path': 'test_state.py', 'contentType': 'file'}]\n",
      "file path:  /test_state.py\n",
      "/test_state.py\n",
      "['', 'test_state.py']\n",
      "file path:  /test_pixel.py\n",
      "/test_pixel.py\n",
      "['', 'test_pixel.py']\n",
      "file path:  /test_atari.py\n",
      "/test_atari.py\n",
      "['', 'test_atari.py']\n",
      "file path:  /setup.py\n",
      "/setup.py\n",
      "['', 'setup.py']\n",
      "file path:  /eval_ppo_pixel.py\n",
      "/eval_ppo_pixel.py\n",
      "['', 'eval_ppo_pixel.py']\n",
      "file path:  /eval_ppo.py\n",
      "/eval_ppo.py\n",
      "['', 'eval_ppo.py']\n",
      "file path:  /eval_agents.py\n"
     ]
    },
    {
     "ename": "RateLimitExceededException",
     "evalue": "403 {\"message\": \"API rate limit exceeded for 139.57.217.65. (But here's the good news: Authenticated requests get a higher rate limit. Check out the documentation for more details.)\", \"documentation_url\": \"https://docs.github.com/rest/overview/resources-in-the-rest-api#rate-limiting\"}",
     "output_type": "error",
     "traceback": [
      "\u001b[0;31m---------------------------------------------------------------------------\u001b[0m",
      "\u001b[0;31mRateLimitExceededException\u001b[0m                Traceback (most recent call last)",
      "\u001b[0;32m/tmp/ipykernel_8014/884427537.py\u001b[0m in \u001b[0;36m<module>\u001b[0;34m\u001b[0m\n\u001b[1;32m      5\u001b[0m \u001b[0mfile_extension\u001b[0m \u001b[0;34m=\u001b[0m \u001b[0;34m'py'\u001b[0m\u001b[0;34m\u001b[0m\u001b[0;34m\u001b[0m\u001b[0m\n\u001b[1;32m      6\u001b[0m \u001b[0;34m\u001b[0m\u001b[0m\n\u001b[0;32m----> 7\u001b[0;31m \u001b[0mdownload_files\u001b[0m\u001b[0;34m(\u001b[0m\u001b[0murl\u001b[0m\u001b[0;34m,\u001b[0m \u001b[0mfile_extension\u001b[0m\u001b[0;34m)\u001b[0m\u001b[0;34m\u001b[0m\u001b[0;34m\u001b[0m\u001b[0m\n\u001b[0m",
      "\u001b[0;32m/tmp/ipykernel_8014/741230783.py\u001b[0m in \u001b[0;36mdownload_files\u001b[0;34m(url, extension)\u001b[0m\n\u001b[1;32m     13\u001b[0m     \u001b[0mrepo_url\u001b[0m \u001b[0;34m=\u001b[0m \u001b[0;34m'/'\u001b[0m\u001b[0;34m.\u001b[0m\u001b[0mjoin\u001b[0m\u001b[0;34m(\u001b[0m\u001b[0mrepo_url\u001b[0m\u001b[0;34m)\u001b[0m\u001b[0;34m\u001b[0m\u001b[0;34m\u001b[0m\u001b[0m\n\u001b[1;32m     14\u001b[0m     \u001b[0;31m#look at previous block\u001b[0m\u001b[0;34m\u001b[0m\u001b[0;34m\u001b[0m\u001b[0;34m\u001b[0m\u001b[0m\n\u001b[0;32m---> 15\u001b[0;31m     \u001b[0mfile_finder_and_writer\u001b[0m\u001b[0;34m(\u001b[0m\u001b[0mfolders_and_files\u001b[0m\u001b[0;34m,\u001b[0m \u001b[0mrepo_url\u001b[0m\u001b[0;34m,\u001b[0m \u001b[0;34m\"\"\u001b[0m\u001b[0;34m)\u001b[0m\u001b[0;34m\u001b[0m\u001b[0;34m\u001b[0m\u001b[0m\n\u001b[0m\u001b[1;32m     16\u001b[0m \u001b[0;34m\u001b[0m\u001b[0m\n\u001b[1;32m     17\u001b[0m     \"\"\"for file in content:\n",
      "\u001b[0;32m/tmp/ipykernel_8014/3296193251.py\u001b[0m in \u001b[0;36mfile_finder_and_writer\u001b[0;34m(folders_and_files, repo_url, file_path)\u001b[0m\n\u001b[1;32m     12\u001b[0m                 \u001b[0mfile_path\u001b[0m \u001b[0;34m=\u001b[0m \u001b[0mfile_path\u001b[0m \u001b[0;34m+\u001b[0m \u001b[0;34m'/'\u001b[0m \u001b[0;34m+\u001b[0m \u001b[0mpath\u001b[0m\u001b[0;34m\u001b[0m\u001b[0;34m\u001b[0m\u001b[0m\n\u001b[1;32m     13\u001b[0m                 \u001b[0;31m# look at previous block\u001b[0m\u001b[0;34m\u001b[0m\u001b[0;34m\u001b[0m\u001b[0;34m\u001b[0m\u001b[0m\n\u001b[0;32m---> 14\u001b[0;31m                 \u001b[0mfile_content\u001b[0m \u001b[0;34m=\u001b[0m \u001b[0mread_file_content\u001b[0m\u001b[0;34m(\u001b[0m\u001b[0mrepo_url\u001b[0m\u001b[0;34m,\u001b[0m \u001b[0mfile_path\u001b[0m\u001b[0;34m)\u001b[0m\u001b[0;34m\u001b[0m\u001b[0;34m\u001b[0m\u001b[0m\n\u001b[0m\u001b[1;32m     15\u001b[0m                 \u001b[0mfile_name_parts\u001b[0m \u001b[0;34m=\u001b[0m \u001b[0mfile_path\u001b[0m\u001b[0;34m.\u001b[0m\u001b[0msplit\u001b[0m\u001b[0;34m(\u001b[0m\u001b[0;34m'/'\u001b[0m\u001b[0;34m)\u001b[0m\u001b[0;34m\u001b[0m\u001b[0;34m\u001b[0m\u001b[0m\n\u001b[1;32m     16\u001b[0m                 \u001b[0mprint\u001b[0m\u001b[0;34m(\u001b[0m\u001b[0mfile_name_parts\u001b[0m\u001b[0;34m)\u001b[0m\u001b[0;34m\u001b[0m\u001b[0;34m\u001b[0m\u001b[0m\n",
      "\u001b[0;32m/tmp/ipykernel_8014/1031607389.py\u001b[0m in \u001b[0;36mread_file_content\u001b[0;34m(repo_url, file_path, access_token)\u001b[0m\n\u001b[1;32m      2\u001b[0m     \u001b[0mg\u001b[0m \u001b[0;34m=\u001b[0m \u001b[0mGithub\u001b[0m\u001b[0;34m(\u001b[0m\u001b[0maccess_token\u001b[0m\u001b[0;34m)\u001b[0m \u001b[0;32mif\u001b[0m \u001b[0maccess_token\u001b[0m \u001b[0;32melse\u001b[0m \u001b[0mGithub\u001b[0m\u001b[0;34m(\u001b[0m\u001b[0;34m)\u001b[0m\u001b[0;34m\u001b[0m\u001b[0;34m\u001b[0m\u001b[0m\n\u001b[1;32m      3\u001b[0m     \u001b[0mprint\u001b[0m\u001b[0;34m(\u001b[0m\u001b[0;34m\"file path: \"\u001b[0m\u001b[0;34m,\u001b[0m \u001b[0mfile_path\u001b[0m\u001b[0;34m)\u001b[0m\u001b[0;34m\u001b[0m\u001b[0;34m\u001b[0m\u001b[0m\n\u001b[0;32m----> 4\u001b[0;31m     \u001b[0mrepo\u001b[0m \u001b[0;34m=\u001b[0m \u001b[0mg\u001b[0m\u001b[0;34m.\u001b[0m\u001b[0mget_repo\u001b[0m\u001b[0;34m(\u001b[0m\u001b[0mrepo_url\u001b[0m\u001b[0;34m)\u001b[0m\u001b[0;34m\u001b[0m\u001b[0;34m\u001b[0m\u001b[0m\n\u001b[0m\u001b[1;32m      5\u001b[0m     \u001b[0mprint\u001b[0m\u001b[0;34m(\u001b[0m\u001b[0mfile_path\u001b[0m\u001b[0;34m)\u001b[0m\u001b[0;34m\u001b[0m\u001b[0;34m\u001b[0m\u001b[0m\n\u001b[1;32m      6\u001b[0m     \u001b[0mfile\u001b[0m \u001b[0;34m=\u001b[0m \u001b[0mrepo\u001b[0m\u001b[0;34m.\u001b[0m\u001b[0mget_contents\u001b[0m\u001b[0;34m(\u001b[0m\u001b[0mfile_path\u001b[0m\u001b[0;34m)\u001b[0m\u001b[0;34m\u001b[0m\u001b[0;34m\u001b[0m\u001b[0m\n",
      "\u001b[0;32m~/anaconda3/envs/RL_Project2/lib/python3.7/site-packages/github/MainClass.py\u001b[0m in \u001b[0;36mget_repo\u001b[0;34m(self, full_name_or_id, lazy)\u001b[0m\n\u001b[1;32m    361\u001b[0m                 \u001b[0mself\u001b[0m\u001b[0;34m.\u001b[0m\u001b[0m__requester\u001b[0m\u001b[0;34m,\u001b[0m \u001b[0;34m{\u001b[0m\u001b[0;34m}\u001b[0m\u001b[0;34m,\u001b[0m \u001b[0;34m{\u001b[0m\u001b[0;34m\"url\"\u001b[0m\u001b[0;34m:\u001b[0m \u001b[0murl\u001b[0m\u001b[0;34m}\u001b[0m\u001b[0;34m,\u001b[0m \u001b[0mcompleted\u001b[0m\u001b[0;34m=\u001b[0m\u001b[0;32mFalse\u001b[0m\u001b[0;34m\u001b[0m\u001b[0;34m\u001b[0m\u001b[0m\n\u001b[1;32m    362\u001b[0m             )\n\u001b[0;32m--> 363\u001b[0;31m         \u001b[0mheaders\u001b[0m\u001b[0;34m,\u001b[0m \u001b[0mdata\u001b[0m \u001b[0;34m=\u001b[0m \u001b[0mself\u001b[0m\u001b[0;34m.\u001b[0m\u001b[0m__requester\u001b[0m\u001b[0;34m.\u001b[0m\u001b[0mrequestJsonAndCheck\u001b[0m\u001b[0;34m(\u001b[0m\u001b[0;34m\"GET\"\u001b[0m\u001b[0;34m,\u001b[0m \u001b[0murl\u001b[0m\u001b[0;34m)\u001b[0m\u001b[0;34m\u001b[0m\u001b[0;34m\u001b[0m\u001b[0m\n\u001b[0m\u001b[1;32m    364\u001b[0m         \u001b[0;32mreturn\u001b[0m \u001b[0mRepository\u001b[0m\u001b[0;34m.\u001b[0m\u001b[0mRepository\u001b[0m\u001b[0;34m(\u001b[0m\u001b[0mself\u001b[0m\u001b[0;34m.\u001b[0m\u001b[0m__requester\u001b[0m\u001b[0;34m,\u001b[0m \u001b[0mheaders\u001b[0m\u001b[0;34m,\u001b[0m \u001b[0mdata\u001b[0m\u001b[0;34m,\u001b[0m \u001b[0mcompleted\u001b[0m\u001b[0;34m=\u001b[0m\u001b[0;32mTrue\u001b[0m\u001b[0;34m)\u001b[0m\u001b[0;34m\u001b[0m\u001b[0;34m\u001b[0m\u001b[0m\n\u001b[1;32m    365\u001b[0m \u001b[0;34m\u001b[0m\u001b[0m\n",
      "\u001b[0;32m~/anaconda3/envs/RL_Project2/lib/python3.7/site-packages/github/Requester.py\u001b[0m in \u001b[0;36mrequestJsonAndCheck\u001b[0;34m(self, verb, url, parameters, headers, input)\u001b[0m\n\u001b[1;32m    442\u001b[0m         return self.__check(\n\u001b[1;32m    443\u001b[0m             *self.requestJson(\n\u001b[0;32m--> 444\u001b[0;31m                 \u001b[0mverb\u001b[0m\u001b[0;34m,\u001b[0m \u001b[0murl\u001b[0m\u001b[0;34m,\u001b[0m \u001b[0mparameters\u001b[0m\u001b[0;34m,\u001b[0m \u001b[0mheaders\u001b[0m\u001b[0;34m,\u001b[0m \u001b[0minput\u001b[0m\u001b[0;34m,\u001b[0m \u001b[0mself\u001b[0m\u001b[0;34m.\u001b[0m\u001b[0m__customConnection\u001b[0m\u001b[0;34m(\u001b[0m\u001b[0murl\u001b[0m\u001b[0;34m)\u001b[0m\u001b[0;34m\u001b[0m\u001b[0;34m\u001b[0m\u001b[0m\n\u001b[0m\u001b[1;32m    445\u001b[0m             )\n\u001b[1;32m    446\u001b[0m         )\n",
      "\u001b[0;32m~/anaconda3/envs/RL_Project2/lib/python3.7/site-packages/github/Requester.py\u001b[0m in \u001b[0;36m__check\u001b[0;34m(self, status, responseHeaders, output)\u001b[0m\n\u001b[1;32m    485\u001b[0m         \u001b[0mdata\u001b[0m \u001b[0;34m=\u001b[0m \u001b[0mself\u001b[0m\u001b[0;34m.\u001b[0m\u001b[0m__structuredFromJson\u001b[0m\u001b[0;34m(\u001b[0m\u001b[0moutput\u001b[0m\u001b[0;34m)\u001b[0m\u001b[0;34m\u001b[0m\u001b[0;34m\u001b[0m\u001b[0m\n\u001b[1;32m    486\u001b[0m         \u001b[0;32mif\u001b[0m \u001b[0mstatus\u001b[0m \u001b[0;34m>=\u001b[0m \u001b[0;36m400\u001b[0m\u001b[0;34m:\u001b[0m\u001b[0;34m\u001b[0m\u001b[0;34m\u001b[0m\u001b[0m\n\u001b[0;32m--> 487\u001b[0;31m             \u001b[0;32mraise\u001b[0m \u001b[0mself\u001b[0m\u001b[0;34m.\u001b[0m\u001b[0m__createException\u001b[0m\u001b[0;34m(\u001b[0m\u001b[0mstatus\u001b[0m\u001b[0;34m,\u001b[0m \u001b[0mresponseHeaders\u001b[0m\u001b[0;34m,\u001b[0m \u001b[0mdata\u001b[0m\u001b[0;34m)\u001b[0m\u001b[0;34m\u001b[0m\u001b[0;34m\u001b[0m\u001b[0m\n\u001b[0m\u001b[1;32m    488\u001b[0m         \u001b[0;32mreturn\u001b[0m \u001b[0mresponseHeaders\u001b[0m\u001b[0;34m,\u001b[0m \u001b[0mdata\u001b[0m\u001b[0;34m\u001b[0m\u001b[0;34m\u001b[0m\u001b[0m\n\u001b[1;32m    489\u001b[0m \u001b[0;34m\u001b[0m\u001b[0m\n",
      "\u001b[0;31mRateLimitExceededException\u001b[0m: 403 {\"message\": \"API rate limit exceeded for 139.57.217.65. (But here's the good news: Authenticated requests get a higher rate limit. Check out the documentation for more details.)\", \"documentation_url\": \"https://docs.github.com/rest/overview/resources-in-the-rest-api#rate-limiting\"}"
     ]
    }
   ],
   "source": [
    "url = 'https://github.com/hardmaru/slimevolleygym/blob/master/slimevolleygym' #https needs to be included always\n",
    "\n",
    "file_path = '/hardmaru/slimevolleygym'\n",
    "#repo_url = \"https://github.com/apache/steve/tree/trunk/pysteve\"\n",
    "file_extension = 'py'\n",
    "\n",
    "download_files(url, file_extension)"
   ]
  },
  {
   "cell_type": "markdown",
   "id": "1fbb74c5",
   "metadata": {},
   "source": [
    "# Garbage"
   ]
  },
  {
   "cell_type": "code",
   "execution_count": 9,
   "id": "3b88e3d8",
   "metadata": {
    "scrolled": true
   },
   "outputs": [
    {
     "name": "stdout",
     "output_type": "stream",
     "text": [
      "dict_keys(['payload', 'title', 'locale']) \n",
      "\n",
      "dict_keys(['allShortcutsEnabled', 'fileTree', 'fileTreeProcessingTime', 'foldersToFetch', 'reducedMotionEnabled', 'repo', 'refInfo', 'path', 'currentUser', 'blob', 'copilotUserAccess', 'csrf_tokens']) \n",
      "\n",
      "{'slimevolleygym': {'items': [{'name': '__init__.py', 'path': 'slimevolleygym/__init__.py', 'contentType': 'file'}, {'name': 'mlp.py', 'path': 'slimevolleygym/mlp.py', 'contentType': 'file'}, {'name': 'slimevolley.py', 'path': 'slimevolleygym/slimevolley.py', 'contentType': 'file'}], 'totalCount': 3}, '': {'items': [{'name': 'figure', 'path': 'figure', 'contentType': 'directory'}, {'name': 'slimevolleygym', 'path': 'slimevolleygym', 'contentType': 'directory'}, {'name': 'training_scripts', 'path': 'training_scripts', 'contentType': 'directory'}, {'name': 'zoo', 'path': 'zoo', 'contentType': 'directory'}, {'name': 'LICENSE', 'path': 'LICENSE', 'contentType': 'file'}, {'name': 'README.md', 'path': 'README.md', 'contentType': 'file'}, {'name': 'TRAINING.md', 'path': 'TRAINING.md', 'contentType': 'file'}, {'name': 'eval_agents.py', 'path': 'eval_agents.py', 'contentType': 'file'}, {'name': 'eval_ppo.py', 'path': 'eval_ppo.py', 'contentType': 'file'}, {'name': 'eval_ppo_pixel.py', 'path': 'eval_ppo_pixel.py', 'contentType': 'file'}, {'name': 'requirements.txt', 'path': 'requirements.txt', 'contentType': 'file'}, {'name': 'setup.py', 'path': 'setup.py', 'contentType': 'file'}, {'name': 'test_atari.py', 'path': 'test_atari.py', 'contentType': 'file'}, {'name': 'test_pixel.py', 'path': 'test_pixel.py', 'contentType': 'file'}, {'name': 'test_state.py', 'path': 'test_state.py', 'contentType': 'file'}], 'totalCount': 15}} \n",
      "\n",
      "{'allShortcutsEnabled': False, 'fileTree': {'slimevolleygym': {'items': [{'name': '__init__.py', 'path': 'slimevolleygym/__init__.py', 'contentType': 'file'}, {'name': 'mlp.py', 'path': 'slimevolleygym/mlp.py', 'contentType': 'file'}, {'name': 'slimevolley.py', 'path': 'slimevolleygym/slimevolley.py', 'contentType': 'file'}], 'totalCount': 3}, '': {'items': [{'name': 'figure', 'path': 'figure', 'contentType': 'directory'}, {'name': 'slimevolleygym', 'path': 'slimevolleygym', 'contentType': 'directory'}, {'name': 'training_scripts', 'path': 'training_scripts', 'contentType': 'directory'}, {'name': 'zoo', 'path': 'zoo', 'contentType': 'directory'}, {'name': 'LICENSE', 'path': 'LICENSE', 'contentType': 'file'}, {'name': 'README.md', 'path': 'README.md', 'contentType': 'file'}, {'name': 'TRAINING.md', 'path': 'TRAINING.md', 'contentType': 'file'}, {'name': 'eval_agents.py', 'path': 'eval_agents.py', 'contentType': 'file'}, {'name': 'eval_ppo.py', 'path': 'eval_ppo.py', 'contentType': 'file'}, {'name': 'eval_ppo_pixel.py', 'path': 'eval_ppo_pixel.py', 'contentType': 'file'}, {'name': 'requirements.txt', 'path': 'requirements.txt', 'contentType': 'file'}, {'name': 'setup.py', 'path': 'setup.py', 'contentType': 'file'}, {'name': 'test_atari.py', 'path': 'test_atari.py', 'contentType': 'file'}, {'name': 'test_pixel.py', 'path': 'test_pixel.py', 'contentType': 'file'}, {'name': 'test_state.py', 'path': 'test_state.py', 'contentType': 'file'}], 'totalCount': 15}}, 'fileTreeProcessingTime': 3.658578, 'foldersToFetch': [], 'reducedMotionEnabled': None, 'repo': {'id': 270728205, 'defaultBranch': 'master', 'name': 'slimevolleygym', 'ownerLogin': 'hardmaru', 'currentUserCanPush': False, 'isFork': False, 'isEmpty': False, 'createdAt': '2020-06-08T15:51:00.000Z', 'ownerAvatar': 'https://avatars.githubusercontent.com/u/6318110?v=4', 'public': True, 'private': False, 'isOrgOwned': False}, 'refInfo': {'name': 'master', 'listCacheKey': 'v0:1591631811.0', 'canEdit': False, 'refType': 'branch', 'currentOid': '1a505392bf35c8a2af2945114c64aab3512f734f'}, 'path': 'slimevolleygym/__init__.py', 'currentUser': None, 'blob': {'rawLines': ['import slimevolleygym.slimevolley', 'import slimevolleygym.mlp', 'from slimevolleygym.slimevolley import *'], 'stylingDirectives': [[{'start': 0, 'end': 6, 'cssClass': 'pl-k'}, {'start': 7, 'end': 21, 'cssClass': 'pl-s1'}, {'start': 22, 'end': 33, 'cssClass': 'pl-s1'}], [{'start': 0, 'end': 6, 'cssClass': 'pl-k'}, {'start': 7, 'end': 21, 'cssClass': 'pl-s1'}, {'start': 22, 'end': 25, 'cssClass': 'pl-s1'}], [{'start': 0, 'end': 4, 'cssClass': 'pl-k'}, {'start': 5, 'end': 19, 'cssClass': 'pl-s1'}, {'start': 20, 'end': 31, 'cssClass': 'pl-s1'}, {'start': 32, 'end': 38, 'cssClass': 'pl-k'}, {'start': 39, 'end': 40, 'cssClass': 'pl-c1'}]], 'csv': None, 'csvError': None, 'dependabotInfo': {'showConfigurationBanner': False, 'configFilePath': None, 'networkDependabotPath': '/hardmaru/slimevolleygym/network/updates', 'dismissConfigurationNoticePath': '/settings/dismiss-notice/dependabot_configuration_notice', 'configurationNoticeDismissed': None, 'repoAlertsPath': '/hardmaru/slimevolleygym/security/dependabot', 'repoSecurityAndAnalysisPath': '/hardmaru/slimevolleygym/settings/security_analysis', 'repoOwnerIsOrg': False, 'currentUserCanAdminRepo': False}, 'displayName': '__init__.py', 'displayUrl': 'https://github.com/hardmaru/slimevolleygym/blob/master/slimevolleygym/__init__.py?raw=true', 'headerInfo': {'blobSize': '101 Bytes', 'deleteInfo': {'deletePath': None, 'deleteTooltip': 'You must be signed in to make or propose changes'}, 'editInfo': {'editTooltip': 'You must be signed in to make or propose changes'}, 'ghDesktopPath': 'https://desktop.github.com', 'gitLfsPath': None, 'onBranch': True, 'shortPath': '342ee02', 'siteNavLoginPath': '/login?return_to=https%3A%2F%2Fgithub.com%2Fhardmaru%2Fslimevolleygym%2Fblob%2Fmaster%2Fslimevolleygym%2F__init__.py', 'isCSV': False, 'isRichtext': False, 'toc': None, 'lineInfo': {'truncatedLoc': '3', 'truncatedSloc': '3'}, 'mode': 'file'}, 'image': False, 'isCodeownersFile': None, 'isValidLegacyIssueTemplate': False, 'issueTemplateHelpUrl': 'https://docs.github.com/articles/about-issue-and-pull-request-templates', 'issueTemplate': None, 'discussionTemplate': None, 'language': 'Python', 'large': False, 'loggedIn': False, 'newDiscussionPath': '/hardmaru/slimevolleygym/discussions/new', 'newIssuePath': '/hardmaru/slimevolleygym/issues/new', 'planSupportInfo': {'repoIsFork': None, 'repoOwnedByCurrentUser': None, 'requestFullPath': '/hardmaru/slimevolleygym/blob/master/slimevolleygym/__init__.py', 'showFreeOrgGatedFeatureMessage': None, 'showPlanSupportBanner': None, 'upgradeDataAttributes': None, 'upgradePath': None}, 'publishBannersInfo': {'dismissActionNoticePath': '/settings/dismiss-notice/publish_action_from_dockerfile', 'dismissStackNoticePath': '/settings/dismiss-notice/publish_stack_from_file', 'releasePath': '/hardmaru/slimevolleygym/releases/new?marketplace=true', 'showPublishActionBanner': False, 'showPublishStackBanner': False}, 'renderImageOrRaw': False, 'richText': None, 'renderedFileInfo': None, 'tabSize': 8, 'topBannersInfo': {'overridingGlobalFundingFile': False, 'globalPreferredFundingPath': None, 'repoOwner': 'hardmaru', 'repoName': 'slimevolleygym', 'showInvalidCitationWarning': False, 'citationHelpUrl': 'https://docs.github.com/en/github/creating-cloning-and-archiving-repositories/creating-a-repository-on-github/about-citation-files', 'showDependabotConfigurationBanner': False, 'actionsOnboardingTip': None}, 'truncated': False, 'viewable': True, 'workflowRedirectUrl': None, 'symbols': {'timedOut': False, 'notAnalyzed': False, 'symbols': []}}, 'copilotUserAccess': None, 'csrf_tokens': {'/hardmaru/slimevolleygym/branches': {'post': 'jDy4tdj5wwO5DCXpaDfjdXY7tUoWD2ITVi8ffK_kk3IvgDcVnrt5hcsKX2vianO5Rf7wbj-RvaKFZTqZfHFIuw'}}}\n",
      "None\n"
     ]
    },
    {
     "ename": "TypeError",
     "evalue": "string indices must be integers",
     "output_type": "error",
     "traceback": [
      "\u001b[0;31m---------------------------------------------------------------------------\u001b[0m",
      "\u001b[0;31mTypeError\u001b[0m                                 Traceback (most recent call last)",
      "\u001b[0;32m/tmp/ipykernel_8311/4132961565.py\u001b[0m in \u001b[0;36m<module>\u001b[0;34m\u001b[0m\n\u001b[1;32m     27\u001b[0m \u001b[0mfile_extension\u001b[0m \u001b[0;34m=\u001b[0m \u001b[0;34m'.py'\u001b[0m\u001b[0;34m\u001b[0m\u001b[0;34m\u001b[0m\u001b[0m\n\u001b[1;32m     28\u001b[0m \u001b[0;34m\u001b[0m\u001b[0m\n\u001b[0;32m---> 29\u001b[0;31m \u001b[0mdownload_files\u001b[0m\u001b[0;34m(\u001b[0m\u001b[0mrepo_url\u001b[0m\u001b[0;34m,\u001b[0m \u001b[0mfile_extension\u001b[0m\u001b[0;34m)\u001b[0m\u001b[0;34m\u001b[0m\u001b[0;34m\u001b[0m\u001b[0m\n\u001b[0m",
      "\u001b[0;32m/tmp/ipykernel_8311/4132961565.py\u001b[0m in \u001b[0;36mdownload_files\u001b[0;34m(url, extension)\u001b[0m\n\u001b[1;32m     15\u001b[0m \u001b[0;34m\u001b[0m\u001b[0m\n\u001b[1;32m     16\u001b[0m     \u001b[0;32mfor\u001b[0m \u001b[0mfile\u001b[0m \u001b[0;32min\u001b[0m \u001b[0mcontent\u001b[0m\u001b[0;34m:\u001b[0m\u001b[0;34m\u001b[0m\u001b[0;34m\u001b[0m\u001b[0m\n\u001b[0;32m---> 17\u001b[0;31m         \u001b[0;32mif\u001b[0m \u001b[0mfile\u001b[0m\u001b[0;34m[\u001b[0m\u001b[0;34m'name'\u001b[0m\u001b[0;34m]\u001b[0m\u001b[0;34m.\u001b[0m\u001b[0mendswith\u001b[0m\u001b[0;34m(\u001b[0m\u001b[0mextension\u001b[0m\u001b[0;34m)\u001b[0m\u001b[0;34m:\u001b[0m\u001b[0;34m\u001b[0m\u001b[0;34m\u001b[0m\u001b[0m\n\u001b[0m\u001b[1;32m     18\u001b[0m             \u001b[0mfile_url\u001b[0m \u001b[0;34m=\u001b[0m \u001b[0mfile\u001b[0m\u001b[0;34m[\u001b[0m\u001b[0;34m'https://github.com/hardmaru/slimevolleygym/blob/master/slimevolleygym/__init__.py'\u001b[0m\u001b[0;34m]\u001b[0m\u001b[0;34m\u001b[0m\u001b[0;34m\u001b[0m\u001b[0m\n\u001b[1;32m     19\u001b[0m             \u001b[0mfile_content\u001b[0m \u001b[0;34m=\u001b[0m \u001b[0mrequests\u001b[0m\u001b[0;34m.\u001b[0m\u001b[0mget\u001b[0m\u001b[0;34m(\u001b[0m\u001b[0mfile_url\u001b[0m\u001b[0;34m)\u001b[0m\u001b[0;34m.\u001b[0m\u001b[0mtext\u001b[0m\u001b[0;34m\u001b[0m\u001b[0;34m\u001b[0m\u001b[0m\n",
      "\u001b[0;31mTypeError\u001b[0m: string indices must be integers"
     ]
    }
   ],
   "source": [
    "def download_files(url, extension):\n",
    "    response = requests.get(url)\n",
    "    response.raise_for_status()  # Check for any errors\n",
    "\n",
    "    # Parse the response content as JSON\n",
    "    content = response.json()\n",
    "    \n",
    "    print(content.keys(), \"\\n\")\n",
    "    print(content[\"payload\"].keys(), \"\\n\")\n",
    "    print(content[\"payload\"][\"fileTree\"], \"\\n\")\n",
    "    print(content[\"payload\"])\n",
    "    print(content.get(\"contnt\"))\n",
    "\n",
    "    for file in content:\n",
    "        if file['name'].endswith(extension):\n",
    "            file_url = file['https://github.com/hardmaru/slimevolleygym/blob/master/slimevolleygym/__init__.py']\n",
    "            file_content = requests.get(file_url).text\n",
    "\n",
    "            # Save the file with the same name\n",
    "            \"\"\"with open(file['name'], 'w') as f:\n",
    "                f.write(file_content)\"\"\"\n",
    "\n",
    "# Example usage\n",
    "repo_url = 'https://github.com/hardmaru/slimevolleygym/blob/master/slimevolleygym/__init__.py'\n",
    "file_extension = '.py'\n",
    "\n",
    "download_files(repo_url, file_extension)"
   ]
  },
  {
   "cell_type": "code",
   "execution_count": 16,
   "id": "b9419b3d",
   "metadata": {},
   "outputs": [
    {
     "ename": "UnknownObjectException",
     "evalue": "404 {\"message\": \"Not Found\", \"documentation_url\": \"https://docs.github.com/rest\"}",
     "output_type": "error",
     "traceback": [
      "\u001b[0;31m---------------------------------------------------------------------------\u001b[0m",
      "\u001b[0;31mUnknownObjectException\u001b[0m                    Traceback (most recent call last)",
      "\u001b[0;32m/tmp/ipykernel_8311/3061997573.py\u001b[0m in \u001b[0;36m<module>\u001b[0;34m\u001b[0m\n\u001b[1;32m     13\u001b[0m \u001b[0maccess_token\u001b[0m \u001b[0;34m=\u001b[0m \u001b[0;32mNone\u001b[0m  \u001b[0;31m# Replace with your actual access token or leave it as None for public repositories\u001b[0m\u001b[0;34m\u001b[0m\u001b[0;34m\u001b[0m\u001b[0m\n\u001b[1;32m     14\u001b[0m \u001b[0;34m\u001b[0m\u001b[0m\n\u001b[0;32m---> 15\u001b[0;31m \u001b[0mcontent\u001b[0m \u001b[0;34m=\u001b[0m \u001b[0mread_file_content\u001b[0m\u001b[0;34m(\u001b[0m\u001b[0mrepo_url\u001b[0m\u001b[0;34m,\u001b[0m \u001b[0mfile_path\u001b[0m\u001b[0;34m,\u001b[0m \u001b[0maccess_token\u001b[0m\u001b[0;34m)\u001b[0m\u001b[0;34m\u001b[0m\u001b[0;34m\u001b[0m\u001b[0m\n\u001b[0m\u001b[1;32m     16\u001b[0m \u001b[0;32mif\u001b[0m \u001b[0mcontent\u001b[0m\u001b[0;34m:\u001b[0m\u001b[0;34m\u001b[0m\u001b[0;34m\u001b[0m\u001b[0m\n\u001b[1;32m     17\u001b[0m     \u001b[0mprint\u001b[0m\u001b[0;34m(\u001b[0m\u001b[0mcontent\u001b[0m\u001b[0;34m)\u001b[0m\u001b[0;34m\u001b[0m\u001b[0;34m\u001b[0m\u001b[0m\n",
      "\u001b[0;32m/tmp/ipykernel_8311/3061997573.py\u001b[0m in \u001b[0;36mread_file_content\u001b[0;34m(repo_url, file_path, access_token)\u001b[0m\n\u001b[1;32m      3\u001b[0m \u001b[0;32mdef\u001b[0m \u001b[0mread_file_content\u001b[0m\u001b[0;34m(\u001b[0m\u001b[0mrepo_url\u001b[0m\u001b[0;34m,\u001b[0m \u001b[0mfile_path\u001b[0m\u001b[0;34m,\u001b[0m \u001b[0maccess_token\u001b[0m\u001b[0;34m=\u001b[0m\u001b[0;32mNone\u001b[0m\u001b[0;34m)\u001b[0m\u001b[0;34m:\u001b[0m\u001b[0;34m\u001b[0m\u001b[0;34m\u001b[0m\u001b[0m\n\u001b[1;32m      4\u001b[0m     \u001b[0mg\u001b[0m \u001b[0;34m=\u001b[0m \u001b[0mGithub\u001b[0m\u001b[0;34m(\u001b[0m\u001b[0maccess_token\u001b[0m\u001b[0;34m)\u001b[0m \u001b[0;32mif\u001b[0m \u001b[0maccess_token\u001b[0m \u001b[0;32melse\u001b[0m \u001b[0mGithub\u001b[0m\u001b[0;34m(\u001b[0m\u001b[0;34m)\u001b[0m\u001b[0;34m\u001b[0m\u001b[0;34m\u001b[0m\u001b[0m\n\u001b[0;32m----> 5\u001b[0;31m     \u001b[0mrepo\u001b[0m \u001b[0;34m=\u001b[0m \u001b[0mg\u001b[0m\u001b[0;34m.\u001b[0m\u001b[0mget_repo\u001b[0m\u001b[0;34m(\u001b[0m\u001b[0mrepo_url\u001b[0m\u001b[0;34m)\u001b[0m\u001b[0;34m\u001b[0m\u001b[0;34m\u001b[0m\u001b[0m\n\u001b[0m\u001b[1;32m      6\u001b[0m     \u001b[0mfile\u001b[0m \u001b[0;34m=\u001b[0m \u001b[0mrepo\u001b[0m\u001b[0;34m.\u001b[0m\u001b[0mget_contents\u001b[0m\u001b[0;34m(\u001b[0m\u001b[0mfile_path\u001b[0m\u001b[0;34m)\u001b[0m\u001b[0;34m\u001b[0m\u001b[0;34m\u001b[0m\u001b[0m\n\u001b[1;32m      7\u001b[0m     \u001b[0mfile_content\u001b[0m \u001b[0;34m=\u001b[0m \u001b[0mfile\u001b[0m\u001b[0;34m.\u001b[0m\u001b[0mdecoded_content\u001b[0m\u001b[0;34m.\u001b[0m\u001b[0mdecode\u001b[0m\u001b[0;34m(\u001b[0m\u001b[0;34m'utf-8'\u001b[0m\u001b[0;34m)\u001b[0m\u001b[0;34m\u001b[0m\u001b[0;34m\u001b[0m\u001b[0m\n",
      "\u001b[0;32m~/anaconda3/envs/RL_Project2/lib/python3.7/site-packages/github/MainClass.py\u001b[0m in \u001b[0;36mget_repo\u001b[0;34m(self, full_name_or_id, lazy)\u001b[0m\n\u001b[1;32m    361\u001b[0m                 \u001b[0mself\u001b[0m\u001b[0;34m.\u001b[0m\u001b[0m__requester\u001b[0m\u001b[0;34m,\u001b[0m \u001b[0;34m{\u001b[0m\u001b[0;34m}\u001b[0m\u001b[0;34m,\u001b[0m \u001b[0;34m{\u001b[0m\u001b[0;34m\"url\"\u001b[0m\u001b[0;34m:\u001b[0m \u001b[0murl\u001b[0m\u001b[0;34m}\u001b[0m\u001b[0;34m,\u001b[0m \u001b[0mcompleted\u001b[0m\u001b[0;34m=\u001b[0m\u001b[0;32mFalse\u001b[0m\u001b[0;34m\u001b[0m\u001b[0;34m\u001b[0m\u001b[0m\n\u001b[1;32m    362\u001b[0m             )\n\u001b[0;32m--> 363\u001b[0;31m         \u001b[0mheaders\u001b[0m\u001b[0;34m,\u001b[0m \u001b[0mdata\u001b[0m \u001b[0;34m=\u001b[0m \u001b[0mself\u001b[0m\u001b[0;34m.\u001b[0m\u001b[0m__requester\u001b[0m\u001b[0;34m.\u001b[0m\u001b[0mrequestJsonAndCheck\u001b[0m\u001b[0;34m(\u001b[0m\u001b[0;34m\"GET\"\u001b[0m\u001b[0;34m,\u001b[0m \u001b[0murl\u001b[0m\u001b[0;34m)\u001b[0m\u001b[0;34m\u001b[0m\u001b[0;34m\u001b[0m\u001b[0m\n\u001b[0m\u001b[1;32m    364\u001b[0m         \u001b[0;32mreturn\u001b[0m \u001b[0mRepository\u001b[0m\u001b[0;34m.\u001b[0m\u001b[0mRepository\u001b[0m\u001b[0;34m(\u001b[0m\u001b[0mself\u001b[0m\u001b[0;34m.\u001b[0m\u001b[0m__requester\u001b[0m\u001b[0;34m,\u001b[0m \u001b[0mheaders\u001b[0m\u001b[0;34m,\u001b[0m \u001b[0mdata\u001b[0m\u001b[0;34m,\u001b[0m \u001b[0mcompleted\u001b[0m\u001b[0;34m=\u001b[0m\u001b[0;32mTrue\u001b[0m\u001b[0;34m)\u001b[0m\u001b[0;34m\u001b[0m\u001b[0;34m\u001b[0m\u001b[0m\n\u001b[1;32m    365\u001b[0m \u001b[0;34m\u001b[0m\u001b[0m\n",
      "\u001b[0;32m~/anaconda3/envs/RL_Project2/lib/python3.7/site-packages/github/Requester.py\u001b[0m in \u001b[0;36mrequestJsonAndCheck\u001b[0;34m(self, verb, url, parameters, headers, input)\u001b[0m\n\u001b[1;32m    442\u001b[0m         return self.__check(\n\u001b[1;32m    443\u001b[0m             *self.requestJson(\n\u001b[0;32m--> 444\u001b[0;31m                 \u001b[0mverb\u001b[0m\u001b[0;34m,\u001b[0m \u001b[0murl\u001b[0m\u001b[0;34m,\u001b[0m \u001b[0mparameters\u001b[0m\u001b[0;34m,\u001b[0m \u001b[0mheaders\u001b[0m\u001b[0;34m,\u001b[0m \u001b[0minput\u001b[0m\u001b[0;34m,\u001b[0m \u001b[0mself\u001b[0m\u001b[0;34m.\u001b[0m\u001b[0m__customConnection\u001b[0m\u001b[0;34m(\u001b[0m\u001b[0murl\u001b[0m\u001b[0;34m)\u001b[0m\u001b[0;34m\u001b[0m\u001b[0;34m\u001b[0m\u001b[0m\n\u001b[0m\u001b[1;32m    445\u001b[0m             )\n\u001b[1;32m    446\u001b[0m         )\n",
      "\u001b[0;32m~/anaconda3/envs/RL_Project2/lib/python3.7/site-packages/github/Requester.py\u001b[0m in \u001b[0;36m__check\u001b[0;34m(self, status, responseHeaders, output)\u001b[0m\n\u001b[1;32m    485\u001b[0m         \u001b[0mdata\u001b[0m \u001b[0;34m=\u001b[0m \u001b[0mself\u001b[0m\u001b[0;34m.\u001b[0m\u001b[0m__structuredFromJson\u001b[0m\u001b[0;34m(\u001b[0m\u001b[0moutput\u001b[0m\u001b[0;34m)\u001b[0m\u001b[0;34m\u001b[0m\u001b[0;34m\u001b[0m\u001b[0m\n\u001b[1;32m    486\u001b[0m         \u001b[0;32mif\u001b[0m \u001b[0mstatus\u001b[0m \u001b[0;34m>=\u001b[0m \u001b[0;36m400\u001b[0m\u001b[0;34m:\u001b[0m\u001b[0;34m\u001b[0m\u001b[0;34m\u001b[0m\u001b[0m\n\u001b[0;32m--> 487\u001b[0;31m             \u001b[0;32mraise\u001b[0m \u001b[0mself\u001b[0m\u001b[0;34m.\u001b[0m\u001b[0m__createException\u001b[0m\u001b[0;34m(\u001b[0m\u001b[0mstatus\u001b[0m\u001b[0;34m,\u001b[0m \u001b[0mresponseHeaders\u001b[0m\u001b[0;34m,\u001b[0m \u001b[0mdata\u001b[0m\u001b[0;34m)\u001b[0m\u001b[0;34m\u001b[0m\u001b[0;34m\u001b[0m\u001b[0m\n\u001b[0m\u001b[1;32m    488\u001b[0m         \u001b[0;32mreturn\u001b[0m \u001b[0mresponseHeaders\u001b[0m\u001b[0;34m,\u001b[0m \u001b[0mdata\u001b[0m\u001b[0;34m\u001b[0m\u001b[0;34m\u001b[0m\u001b[0m\n\u001b[1;32m    489\u001b[0m \u001b[0;34m\u001b[0m\u001b[0m\n",
      "\u001b[0;31mUnknownObjectException\u001b[0m: 404 {\"message\": \"Not Found\", \"documentation_url\": \"https://docs.github.com/rest\"}"
     ]
    }
   ],
   "source": [
    "\n",
    "\n",
    "def read_file_content(repo_url, file_path, access_token=None):\n",
    "    g = Github(access_token) if access_token else Github()\n",
    "    repo = g.get_repo(repo_url)\n",
    "    file = repo.get_contents(file_path)\n",
    "    file_content = file.decoded_content.decode('utf-8')\n",
    "    return file_content\n",
    "\n",
    "# Example usage\n",
    "repo_url = 'https://docs.github.com/rest/hardmaru/slimevolleygym'\n",
    "file_path = 'slimevolleygym/__init__.py'\n",
    "access_token = None  # Replace with your actual access token or leave it as None for public repositories\n",
    "\n",
    "content = read_file_content(repo_url, file_path, access_token)\n",
    "if content:\n",
    "    print(content)"
   ]
  },
  {
   "cell_type": "code",
   "execution_count": 37,
   "id": "bf4a8f86",
   "metadata": {},
   "outputs": [
    {
     "name": "stdout",
     "output_type": "stream",
     "text": [
      "\"\"\"\n",
      "State mode (Optional Human vs Built-in AI)\n",
      "\n",
      "FPS (no-render): 100000 steps /7.956 seconds. 12.5K/s.\n",
      "\"\"\"\n",
      "\n",
      "import math\n",
      "import numpy as np\n",
      "import gym\n",
      "import slimevolleygym\n",
      "\n",
      "np.set_printoptions(threshold=20, precision=3, suppress=True, linewidth=200)\n",
      "\n",
      "# game settings:\n",
      "\n",
      "RENDER_MODE = True\n",
      "\n",
      "\n",
      "if __name__==\"__main__\":\n",
      "  \"\"\"\n",
      "  Example of how to use Gym env, in single or multiplayer setting\n",
      "\n",
      "  Humans can override controls:\n",
      "\n",
      "  blue Agent:\n",
      "  W - Jump\n",
      "  A - Left\n",
      "  D - Right\n",
      "\n",
      "  Yellow Agent:\n",
      "  Up Arrow, Left Arrow, Right Arrow\n",
      "  \"\"\"\n",
      "\n",
      "  if RENDER_MODE:\n",
      "    from pyglet.window import key\n",
      "    from time import sleep\n",
      "\n",
      "  manualAction = [0, 0, 0] # forward, backward, jump\n",
      "  otherManualAction = [0, 0, 0]\n",
      "  manualMode = False\n",
      "  otherManualMode = False\n",
      "\n",
      "  # taken from https://github.com/openai/gym/blob/master/gym/envs/box2d/car_racing.py\n",
      "  def key_press(k, mod):\n",
      "    global manualMode, manualAction, otherManualMode, otherManualAction\n",
      "    if k == key.LEFT:  manualAction[0] = 1\n",
      "    if k == key.RIGHT: manualAction[1] = 1\n",
      "    if k == key.UP:    manualAction[2] = 1\n",
      "    if (k == key.LEFT or k == key.RIGHT or k == key.UP): manualMode = True\n",
      "\n",
      "    if k == key.D:     otherManualAction[0] = 1\n",
      "    if k == key.A:     otherManualAction[1] = 1\n",
      "    if k == key.W:     otherManualAction[2] = 1\n",
      "    if (k == key.D or k == key.A or k == key.W): otherManualMode = True\n",
      "\n",
      "  def key_release(k, mod):\n",
      "    global manualMode, manualAction, otherManualMode, otherManualAction\n",
      "    if k == key.LEFT:  manualAction[0] = 0\n",
      "    if k == key.RIGHT: manualAction[1] = 0\n",
      "    if k == key.UP:    manualAction[2] = 0\n",
      "    if k == key.D:     otherManualAction[0] = 0\n",
      "    if k == key.A:     otherManualAction[1] = 0\n",
      "    if k == key.W:     otherManualAction[2] = 0\n",
      "\n",
      "  policy = slimevolleygym.BaselinePolicy() # defaults to use RNN Baseline for player\n",
      "\n",
      "  env = gym.make(\"SlimeVolley-v0\")\n",
      "  env.seed(np.random.randint(0, 10000))\n",
      "  #env.seed(689)\n",
      "\n",
      "  if RENDER_MODE:\n",
      "    env.render()\n",
      "    env.viewer.window.on_key_press = key_press\n",
      "    env.viewer.window.on_key_release = key_release\n",
      "\n",
      "  obs = env.reset()\n",
      "\n",
      "  steps = 0\n",
      "  total_reward = 0\n",
      "  action = np.array([0, 0, 0])\n",
      "\n",
      "  done = False\n",
      "\n",
      "  while not done:\n",
      "\n",
      "    if manualMode: # override with keyboard\n",
      "      action = manualAction\n",
      "    else:\n",
      "      action = policy.predict(obs)\n",
      "\n",
      "    if otherManualMode:\n",
      "      otherAction = otherManualAction\n",
      "      obs, reward, done, _ = env.step(action, otherAction)\n",
      "    else:\n",
      "      obs, reward, done, _ = env.step(action)\n",
      "\n",
      "    if reward > 0 or reward < 0:\n",
      "      manualMode = False\n",
      "      otherManualMode = False\n",
      "\n",
      "    total_reward += reward\n",
      "\n",
      "    if RENDER_MODE:\n",
      "      env.render()\n",
      "      sleep(0.02) # 0.01\n",
      "\n",
      "  env.close()\n",
      "  print(\"cumulative score\", total_reward)\n",
      "\n"
     ]
    }
   ],
   "source": [
    "from github import Github\n",
    "\n",
    "def read_file_content(repo_url, file_path):\n",
    "    g = Github()\n",
    "    repo = g.get_repo(repo_url)\n",
    "    file = repo.get_contents(file_path)\n",
    "    file_content = file.decoded_content.decode('utf-8')\n",
    "    return file_content\n",
    "\n",
    "# Example usage\n",
    "repo_url = 'hardmaru/slimevolleygym'\n",
    "#file_path = 'slimevolleygym/__init__.py'\n",
    "file_path = 'test_state.py'\n",
    "\n",
    "content = read_file_content(repo_url, file_path)\n",
    "if content:\n",
    "    print(content)"
   ]
  },
  {
   "cell_type": "code",
   "execution_count": 3,
   "id": "4a10aa76",
   "metadata": {},
   "outputs": [
    {
     "ename": "FileNotFoundError",
     "evalue": "[Errno 2] No such file or directory: '/d/d.py'",
     "output_type": "error",
     "traceback": [
      "\u001b[0;31m---------------------------------------------------------------------------\u001b[0m",
      "\u001b[0;31mFileNotFoundError\u001b[0m                         Traceback (most recent call last)",
      "\u001b[0;32m/tmp/ipykernel_8720/1414142713.py\u001b[0m in \u001b[0;36m<module>\u001b[0;34m\u001b[0m\n\u001b[0;32m----> 1\u001b[0;31m \u001b[0;32mwith\u001b[0m \u001b[0mopen\u001b[0m\u001b[0;34m(\u001b[0m\u001b[0;34m\"/d/d.py\"\u001b[0m\u001b[0;34m,\u001b[0m \u001b[0;34m'w'\u001b[0m\u001b[0;34m)\u001b[0m \u001b[0;32mas\u001b[0m \u001b[0mf\u001b[0m\u001b[0;34m:\u001b[0m\u001b[0;34m\u001b[0m\u001b[0;34m\u001b[0m\u001b[0m\n\u001b[0m\u001b[1;32m      2\u001b[0m     \u001b[0mf\u001b[0m\u001b[0;34m.\u001b[0m\u001b[0mwrite\u001b[0m\u001b[0;34m(\u001b[0m\u001b[0mfile_content\u001b[0m\u001b[0;34m)\u001b[0m\u001b[0;34m\u001b[0m\u001b[0;34m\u001b[0m\u001b[0m\n",
      "\u001b[0;31mFileNotFoundError\u001b[0m: [Errno 2] No such file or directory: '/d/d.py'"
     ]
    }
   ],
   "source": [
    "with open(\"d/d.py\", 'w') as f:\n",
    "    f.write(file_content)"
   ]
  },
  {
   "cell_type": "code",
   "execution_count": 20,
   "id": "dc0f86c2",
   "metadata": {
    "scrolled": true
   },
   "outputs": [
    {
     "name": "stdout",
     "output_type": "stream",
     "text": [
      "dict_keys(['allShortcutsEnabled', 'path', 'repo', 'currentUser', 'refInfo', 'tree', 'fileTree', 'fileTreeProcessingTime', 'foldersToFetch', 'showSurveyBanner', 'showCodeNavSurvey', 'csrf_tokens']) \n",
      "\n",
      "[{'name': 'figure', 'path': 'figure', 'contentType': 'directory'}, {'name': 'slimevolleygym', 'path': 'slimevolleygym', 'contentType': 'directory'}, {'name': 'training_scripts', 'path': 'training_scripts', 'contentType': 'directory'}, {'name': 'zoo', 'path': 'zoo', 'contentType': 'directory'}, {'name': 'LICENSE', 'path': 'LICENSE', 'contentType': 'file'}, {'name': 'README.md', 'path': 'README.md', 'contentType': 'file'}, {'name': 'TRAINING.md', 'path': 'TRAINING.md', 'contentType': 'file'}, {'name': 'eval_agents.py', 'path': 'eval_agents.py', 'contentType': 'file'}, {'name': 'eval_ppo.py', 'path': 'eval_ppo.py', 'contentType': 'file'}, {'name': 'eval_ppo_pixel.py', 'path': 'eval_ppo_pixel.py', 'contentType': 'file'}, {'name': 'requirements.txt', 'path': 'requirements.txt', 'contentType': 'file'}, {'name': 'setup.py', 'path': 'setup.py', 'contentType': 'file'}, {'name': 'test_atari.py', 'path': 'test_atari.py', 'contentType': 'file'}, {'name': 'test_pixel.py', 'path': 'test_pixel.py', 'contentType': 'file'}, {'name': 'test_state.py', 'path': 'test_state.py', 'contentType': 'file'}]\n"
     ]
    },
    {
     "ename": "TypeError",
     "evalue": "string indices must be integers",
     "output_type": "error",
     "traceback": [
      "\u001b[0;31m---------------------------------------------------------------------------\u001b[0m",
      "\u001b[0;31mTypeError\u001b[0m                                 Traceback (most recent call last)",
      "\u001b[0;32m/tmp/ipykernel_12035/1657448185.py\u001b[0m in \u001b[0;36m<module>\u001b[0;34m\u001b[0m\n\u001b[1;32m     26\u001b[0m \u001b[0mfile_extension\u001b[0m \u001b[0;34m=\u001b[0m \u001b[0;34m'.py'\u001b[0m\u001b[0;34m\u001b[0m\u001b[0;34m\u001b[0m\u001b[0m\n\u001b[1;32m     27\u001b[0m \u001b[0;34m\u001b[0m\u001b[0m\n\u001b[0;32m---> 28\u001b[0;31m \u001b[0mdownload_files\u001b[0m\u001b[0;34m(\u001b[0m\u001b[0mrepo_url\u001b[0m\u001b[0;34m,\u001b[0m \u001b[0mfile_extension\u001b[0m\u001b[0;34m)\u001b[0m\u001b[0;34m\u001b[0m\u001b[0;34m\u001b[0m\u001b[0m\n\u001b[0m",
      "\u001b[0;32m/tmp/ipykernel_12035/1657448185.py\u001b[0m in \u001b[0;36mdownload_files\u001b[0;34m(url, extension)\u001b[0m\n\u001b[1;32m     12\u001b[0m \u001b[0;34m\u001b[0m\u001b[0m\n\u001b[1;32m     13\u001b[0m     \u001b[0;32mfor\u001b[0m \u001b[0mfile\u001b[0m \u001b[0;32min\u001b[0m \u001b[0mcontent\u001b[0m\u001b[0;34m:\u001b[0m\u001b[0;34m\u001b[0m\u001b[0;34m\u001b[0m\u001b[0m\n\u001b[0;32m---> 14\u001b[0;31m         \u001b[0;32mif\u001b[0m \u001b[0mfile\u001b[0m\u001b[0;34m[\u001b[0m\u001b[0;34m'name'\u001b[0m\u001b[0;34m]\u001b[0m\u001b[0;34m.\u001b[0m\u001b[0mendswith\u001b[0m\u001b[0;34m(\u001b[0m\u001b[0mextension\u001b[0m\u001b[0;34m)\u001b[0m\u001b[0;34m:\u001b[0m\u001b[0;34m\u001b[0m\u001b[0;34m\u001b[0m\u001b[0m\n\u001b[0m\u001b[1;32m     15\u001b[0m             \u001b[0mfile_url\u001b[0m \u001b[0;34m=\u001b[0m \u001b[0mfile\u001b[0m\u001b[0;34m[\u001b[0m\u001b[0;34m'download_url'\u001b[0m\u001b[0;34m]\u001b[0m\u001b[0;34m\u001b[0m\u001b[0;34m\u001b[0m\u001b[0m\n\u001b[1;32m     16\u001b[0m             \u001b[0mfile_content\u001b[0m \u001b[0;34m=\u001b[0m \u001b[0mrequests\u001b[0m\u001b[0;34m.\u001b[0m\u001b[0mget\u001b[0m\u001b[0;34m(\u001b[0m\u001b[0mfile_url\u001b[0m\u001b[0;34m)\u001b[0m\u001b[0;34m.\u001b[0m\u001b[0mtext\u001b[0m\u001b[0;34m\u001b[0m\u001b[0;34m\u001b[0m\u001b[0m\n",
      "\u001b[0;31mTypeError\u001b[0m: string indices must be integers"
     ]
    }
   ],
   "source": [
    "import requests\n",
    "\n",
    "def download_files(url, extension):\n",
    "    response = requests.get(url)\n",
    "    response.raise_for_status()  # Check for any errors\n",
    "\n",
    "    # Parse the response content as JSON\n",
    "    content = response.json()\n",
    "    \n",
    "    print(content[\"payload\"].keys(), \"\\n\")\n",
    "    print(content[\"payload\"][\"fileTree\"]['']['items'])\n",
    "\n",
    "    for file in content:\n",
    "        if file['name'].endswith(extension):\n",
    "            file_url = file['download_url']\n",
    "            file_content = requests.get(file_url).text\n",
    "\n",
    "            # Save the file with the same name\n",
    "            \"\"\"with open(file['name'], 'w') as f:\n",
    "                f.write(file_content)\"\"\"\n",
    "\n",
    "# Example usage\n",
    "#repo_url = \"https://github.com/hardmaru/slimevolleygym/tree/master\"\n",
    "repo_url = 'https://github.com/hardmaru/slimevolleygym/blob/master/slimevolleygym'\n",
    "#repo_url = \"https://github.com/apache/steve/tree/trunk/pysteve\"\n",
    "file_extension = '.py'\n",
    "\n",
    "download_files(repo_url, file_extension)"
   ]
  },
  {
   "cell_type": "code",
   "execution_count": null,
   "id": "fe99ebb2",
   "metadata": {},
   "outputs": [],
   "source": [
    "import requests\n",
    "\n",
    "def download_files(url, extension):\n",
    "    response = requests.get(url)\n",
    "    response.raise_for_status()  # Check for any errors\n",
    "\n",
    "    # Parse the response content as JSON\n",
    "    content = response.json()\n",
    "    \n",
    "    print(content[\"payload\"].keys(), \"\\n\")\n",
    "    print(content[\"payload\"][\"fileTree\"]['']['items'])\n",
    "    \n",
    "    folders_and_files = content[\"payload\"][\"fileTree\"]['']['items']\n",
    "    \n",
    "    def file_extention(folders_and_files):\n",
    "        for dic in folders_and_files:\n",
    "            if dic['contentType'] == 'file':\n",
    "                if dic['path'].split(\".\")[1] == \"py\":\n",
    "                    python_files.append()\n",
    "\n",
    "    for file in content:\n",
    "        if file['name'].endswith(extension):\n",
    "            file_url = file['download_url']\n",
    "            file_content = requests.get(file_url).text\n",
    "\n",
    "            # Save the file with the same name\n",
    "            \"\"\"with open(file['name'], 'w') as f:\n",
    "                f.write(file_content)\"\"\"\n",
    "\n",
    "# Example usage\n",
    "repo_url = 'https://github.com/hardmaru/slimevolleygym/blob/master/slimevolleygym'\n",
    "#repo_url = \"https://github.com/apache/steve/tree/trunk/pysteve\"\n",
    "file_extension = '.py'\n",
    "\n",
    "download_files(repo_url, file_extension)"
   ]
  },
  {
   "cell_type": "code",
   "execution_count": null,
   "id": "0e6ab7a8",
   "metadata": {},
   "outputs": [],
   "source": [
    "def file_finder_and_writer(folders_and_files, repo_url):\n",
    "    for dic in folders_and_files:\n",
    "        if dic['contentType'] == 'file':\n",
    "            path = dic['path']\n",
    "            if path.split(\".\")[-1] == \"py\":\n",
    "                if file_path == None:\n",
    "                    file_path = repo_url.split('/')[1] + '/' + path\n",
    "                # look at previous block\n",
    "                file_content = read_file_content(repo_url, file_path, access_token=None)\n",
    "                file_name_parts = repo_url.split('/')[0]\n",
    "                file_name_parts.append(file_path)\n",
    "                file_name = '_'.join(file_name_parts)\n",
    "                dir_to_write = 'projects-to-investigate/' + file_name\n",
    "                with open(dir_to_write, 'w') as f:\n",
    "                    f.write(file_content)\n",
    "        elif dic['contentType'] == 'directory':\n",
    "            repo_url = repo_url + '/' + dic['path']\n",
    "            file_finder_and_writer(folders_and_files, repo_url)"
   ]
  }
 ],
 "metadata": {
  "kernelspec": {
   "display_name": "Python 3 (ipykernel)",
   "language": "python",
   "name": "python3"
  },
  "language_info": {
   "codemirror_mode": {
    "name": "ipython",
    "version": 3
   },
   "file_extension": ".py",
   "mimetype": "text/x-python",
   "name": "python",
   "nbconvert_exporter": "python",
   "pygments_lexer": "ipython3",
   "version": "3.7.11"
  }
 },
 "nbformat": 4,
 "nbformat_minor": 5
}
