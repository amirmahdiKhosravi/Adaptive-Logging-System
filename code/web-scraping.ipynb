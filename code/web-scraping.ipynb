{
 "cells": [
  {
   "cell_type": "code",
   "execution_count": 3,
   "id": "f0d25cec",
   "metadata": {
    "collapsed": true
   },
   "outputs": [
    {
     "name": "stdout",
     "output_type": "stream",
     "text": [
      "Collecting requests\n",
      "  Downloading requests-2.31.0-py3-none-any.whl (62 kB)\n",
      "\u001b[K     |████████████████████████████████| 62 kB 77 kB/s  eta 0:00:01\n",
      "\u001b[?25hCollecting idna<4,>=2.5\n",
      "  Downloading idna-3.4-py3-none-any.whl (61 kB)\n",
      "\u001b[K     |████████████████████████████████| 61 kB 75 kB/s  eta 0:00:01\n",
      "\u001b[?25hCollecting urllib3<3,>=1.21.1\n",
      "  Downloading urllib3-2.0.3-py3-none-any.whl (123 kB)\n",
      "\u001b[K     |████████████████████████████████| 123 kB 3.7 MB/s eta 0:00:01\n",
      "\u001b[?25hCollecting charset-normalizer<4,>=2\n",
      "  Downloading charset_normalizer-3.2.0-cp37-cp37m-manylinux_2_17_x86_64.manylinux2014_x86_64.whl (175 kB)\n",
      "\u001b[K     |████████████████████████████████| 175 kB 4.6 MB/s eta 0:00:01\n",
      "\u001b[?25hRequirement already satisfied: certifi>=2017.4.17 in /home/amirmahdi/anaconda3/envs/RL_Project2/lib/python3.7/site-packages (from requests) (2022.6.15)\n",
      "Installing collected packages: urllib3, idna, charset-normalizer, requests\n",
      "Successfully installed charset-normalizer-3.2.0 idna-3.4 requests-2.31.0 urllib3-2.0.3\n"
     ]
    }
   ],
   "source": [
    "!pip install requests"
   ]
  },
  {
   "cell_type": "code",
   "execution_count": 28,
   "id": "3b88e3d8",
   "metadata": {
    "scrolled": true
   },
   "outputs": [
    {
     "name": "stdout",
     "output_type": "stream",
     "text": [
      "dict_keys(['payload', 'title', 'locale']) \n",
      "\n",
      "dict_keys(['allShortcutsEnabled', 'fileTree', 'fileTreeProcessingTime', 'foldersToFetch', 'reducedMotionEnabled', 'repo', 'refInfo', 'path', 'currentUser', 'blob', 'copilotUserAccess', 'csrf_tokens']) \n",
      "\n",
      "{'slimevolleygym': {'items': [{'name': '__init__.py', 'path': 'slimevolleygym/__init__.py', 'contentType': 'file'}, {'name': 'mlp.py', 'path': 'slimevolleygym/mlp.py', 'contentType': 'file'}, {'name': 'slimevolley.py', 'path': 'slimevolleygym/slimevolley.py', 'contentType': 'file'}], 'totalCount': 3}, '': {'items': [{'name': 'figure', 'path': 'figure', 'contentType': 'directory'}, {'name': 'slimevolleygym', 'path': 'slimevolleygym', 'contentType': 'directory'}, {'name': 'training_scripts', 'path': 'training_scripts', 'contentType': 'directory'}, {'name': 'zoo', 'path': 'zoo', 'contentType': 'directory'}, {'name': 'LICENSE', 'path': 'LICENSE', 'contentType': 'file'}, {'name': 'README.md', 'path': 'README.md', 'contentType': 'file'}, {'name': 'TRAINING.md', 'path': 'TRAINING.md', 'contentType': 'file'}, {'name': 'eval_agents.py', 'path': 'eval_agents.py', 'contentType': 'file'}, {'name': 'eval_ppo.py', 'path': 'eval_ppo.py', 'contentType': 'file'}, {'name': 'eval_ppo_pixel.py', 'path': 'eval_ppo_pixel.py', 'contentType': 'file'}, {'name': 'requirements.txt', 'path': 'requirements.txt', 'contentType': 'file'}, {'name': 'setup.py', 'path': 'setup.py', 'contentType': 'file'}, {'name': 'test_atari.py', 'path': 'test_atari.py', 'contentType': 'file'}, {'name': 'test_pixel.py', 'path': 'test_pixel.py', 'contentType': 'file'}, {'name': 'test_state.py', 'path': 'test_state.py', 'contentType': 'file'}], 'totalCount': 15}} \n",
      "\n",
      "{\"payload\":{\"allShortcutsEnabled\":false,\"fileTree\":{\"slimevolleygym\":{\"items\":[{\"name\":\"__init__.py\",\"path\":\"slimevolleygym/__init__.py\",\"contentType\":\"file\"},{\"name\":\"mlp.py\",\"path\":\"slimevolleygym/mlp.py\",\"contentType\":\"file\"},{\"name\":\"slimevolley.py\",\"path\":\"slimevolleygym/slimevolley.py\",\"contentType\":\"file\"}],\"totalCount\":3},\"\":{\"items\":[{\"name\":\"figure\",\"path\":\"figure\",\"contentType\":\"directory\"},{\"name\":\"slimevolleygym\",\"path\":\"slimevolleygym\",\"contentType\":\"directory\"},{\"name\":\"training_scripts\",\"path\":\"training_scripts\",\"contentType\":\"directory\"},{\"name\":\"zoo\",\"path\":\"zoo\",\"contentType\":\"directory\"},{\"name\":\"LICENSE\",\"path\":\"LICENSE\",\"contentType\":\"file\"},{\"name\":\"README.md\",\"path\":\"README.md\",\"contentType\":\"file\"},{\"name\":\"TRAINING.md\",\"path\":\"TRAINING.md\",\"contentType\":\"file\"},{\"name\":\"eval_agents.py\",\"path\":\"eval_agents.py\",\"contentType\":\"file\"},{\"name\":\"eval_ppo.py\",\"path\":\"eval_ppo.py\",\"contentType\":\"file\"},{\"name\":\"eval_ppo_pixel.py\",\"path\":\"eval_ppo_pixel.py\",\"contentType\":\"file\"},{\"name\":\"requirements.txt\",\"path\":\"requirements.txt\",\"contentType\":\"file\"},{\"name\":\"setup.py\",\"path\":\"setup.py\",\"contentType\":\"file\"},{\"name\":\"test_atari.py\",\"path\":\"test_atari.py\",\"contentType\":\"file\"},{\"name\":\"test_pixel.py\",\"path\":\"test_pixel.py\",\"contentType\":\"file\"},{\"name\":\"test_state.py\",\"path\":\"test_state.py\",\"contentType\":\"file\"}],\"totalCount\":15}},\"fileTreeProcessingTime\":4.9947680000000005,\"foldersToFetch\":[],\"reducedMotionEnabled\":null,\"repo\":{\"id\":270728205,\"defaultBranch\":\"master\",\"name\":\"slimevolleygym\",\"ownerLogin\":\"hardmaru\",\"currentUserCanPush\":false,\"isFork\":false,\"isEmpty\":false,\"createdAt\":\"2020-06-08T15:51:00.000Z\",\"ownerAvatar\":\"https://avatars.githubusercontent.com/u/6318110?v=4\",\"public\":true,\"private\":false,\"isOrgOwned\":false},\"refInfo\":{\"name\":\"master\",\"listCacheKey\":\"v0:1591631811.0\",\"canEdit\":false,\"refType\":\"branch\",\"currentOid\":\"1a505392bf35c8a2af2945114c64aab3512f734f\"},\"path\":\"slimevolleygym/__init__.py\",\"currentUser\":null,\"blob\":{\"rawLines\":[\"import slimevolleygym.slimevolley\",\"import slimevolleygym.mlp\",\"from slimevolleygym.slimevolley import *\"],\"stylingDirectives\":[[{\"start\":0,\"end\":6,\"cssClass\":\"pl-k\"},{\"start\":7,\"end\":21,\"cssClass\":\"pl-s1\"},{\"start\":22,\"end\":33,\"cssClass\":\"pl-s1\"}],[{\"start\":0,\"end\":6,\"cssClass\":\"pl-k\"},{\"start\":7,\"end\":21,\"cssClass\":\"pl-s1\"},{\"start\":22,\"end\":25,\"cssClass\":\"pl-s1\"}],[{\"start\":0,\"end\":4,\"cssClass\":\"pl-k\"},{\"start\":5,\"end\":19,\"cssClass\":\"pl-s1\"},{\"start\":20,\"end\":31,\"cssClass\":\"pl-s1\"},{\"start\":32,\"end\":38,\"cssClass\":\"pl-k\"},{\"start\":39,\"end\":40,\"cssClass\":\"pl-c1\"}]],\"csv\":null,\"csvError\":null,\"dependabotInfo\":{\"showConfigurationBanner\":false,\"configFilePath\":null,\"networkDependabotPath\":\"/hardmaru/slimevolleygym/network/updates\",\"dismissConfigurationNoticePath\":\"/settings/dismiss-notice/dependabot_configuration_notice\",\"configurationNoticeDismissed\":null,\"repoAlertsPath\":\"/hardmaru/slimevolleygym/security/dependabot\",\"repoSecurityAndAnalysisPath\":\"/hardmaru/slimevolleygym/settings/security_analysis\",\"repoOwnerIsOrg\":false,\"currentUserCanAdminRepo\":false},\"displayName\":\"__init__.py\",\"displayUrl\":\"https://github.com/hardmaru/slimevolleygym/blob/master/slimevolleygym/__init__.py?raw=true\",\"headerInfo\":{\"blobSize\":\"101 Bytes\",\"deleteInfo\":{\"deletePath\":null,\"deleteTooltip\":\"You must be signed in to make or propose changes\"},\"editInfo\":{\"editTooltip\":\"You must be signed in to make or propose changes\"},\"ghDesktopPath\":\"https://desktop.github.com\",\"gitLfsPath\":null,\"onBranch\":true,\"shortPath\":\"342ee02\",\"siteNavLoginPath\":\"/login?return_to=https%3A%2F%2Fgithub.com%2Fhardmaru%2Fslimevolleygym%2Fblob%2Fmaster%2Fslimevolleygym%2F__init__.py\",\"isCSV\":false,\"isRichtext\":false,\"toc\":null,\"lineInfo\":{\"truncatedLoc\":\"3\",\"truncatedSloc\":\"3\"},\"mode\":\"file\"},\"image\":false,\"isCodeownersFile\":null,\"isValidLegacyIssueTemplate\":false,\"issueTemplateHelpUrl\":\"https://docs.github.com/articles/about-issue-and-pull-request-templates\",\"issueTemplate\":null,\"discussionTemplate\":null,\"language\":\"Python\",\"large\":false,\"loggedIn\":false,\"newDiscussionPath\":\"/hardmaru/slimevolleygym/discussions/new\",\"newIssuePath\":\"/hardmaru/slimevolleygym/issues/new\",\"planSupportInfo\":{\"repoIsFork\":null,\"repoOwnedByCurrentUser\":null,\"requestFullPath\":\"/hardmaru/slimevolleygym/blob/master/slimevolleygym/__init__.py\",\"showFreeOrgGatedFeatureMessage\":null,\"showPlanSupportBanner\":null,\"upgradeDataAttributes\":null,\"upgradePath\":null},\"publishBannersInfo\":{\"dismissActionNoticePath\":\"/settings/dismiss-notice/publish_action_from_dockerfile\",\"dismissStackNoticePath\":\"/settings/dismiss-notice/publish_stack_from_file\",\"releasePath\":\"/hardmaru/slimevolleygym/releases/new?marketplace=true\",\"showPublishActionBanner\":false,\"showPublishStackBanner\":false},\"renderImageOrRaw\":false,\"richText\":null,\"renderedFileInfo\":null,\"tabSize\":8,\"topBannersInfo\":{\"overridingGlobalFundingFile\":false,\"globalPreferredFundingPath\":null,\"repoOwner\":\"hardmaru\",\"repoName\":\"slimevolleygym\",\"showInvalidCitationWarning\":false,\"citationHelpUrl\":\"https://docs.github.com/en/github/creating-cloning-and-archiving-repositories/creating-a-repository-on-github/about-citation-files\",\"showDependabotConfigurationBanner\":false,\"actionsOnboardingTip\":null},\"truncated\":false,\"viewable\":true,\"workflowRedirectUrl\":null,\"symbols\":{\"timedOut\":false,\"notAnalyzed\":false,\"symbols\":[]}},\"copilotUserAccess\":null,\"csrf_tokens\":{\"/hardmaru/slimevolleygym/branches\":{\"post\":\"42hbOtZXWDYutg7LgAusd_9x2qGUX1WWL5Kfs3gkLhBtb6Kte_epOla5DNds_uHrzY0VTgpsX3LOotvWv6HFKQ\"}}},\"title\":\"slimevolleygym/slimevolleygym/__init__.py at master · hardmaru/slimevolleygym\",\"locale\":\"en\"}\n"
     ]
    },
    {
     "ename": "TypeError",
     "evalue": "string indices must be integers",
     "output_type": "error",
     "traceback": [
      "\u001b[0;31m---------------------------------------------------------------------------\u001b[0m",
      "\u001b[0;31mTypeError\u001b[0m                                 Traceback (most recent call last)",
      "\u001b[0;32m/tmp/ipykernel_12035/4226969918.py\u001b[0m in \u001b[0;36m<module>\u001b[0;34m\u001b[0m\n\u001b[1;32m     28\u001b[0m \u001b[0mfile_extension\u001b[0m \u001b[0;34m=\u001b[0m \u001b[0;34m'.py'\u001b[0m\u001b[0;34m\u001b[0m\u001b[0;34m\u001b[0m\u001b[0m\n\u001b[1;32m     29\u001b[0m \u001b[0;34m\u001b[0m\u001b[0m\n\u001b[0;32m---> 30\u001b[0;31m \u001b[0mdownload_files\u001b[0m\u001b[0;34m(\u001b[0m\u001b[0mrepo_url\u001b[0m\u001b[0;34m,\u001b[0m \u001b[0mfile_extension\u001b[0m\u001b[0;34m)\u001b[0m\u001b[0;34m\u001b[0m\u001b[0;34m\u001b[0m\u001b[0m\n\u001b[0m",
      "\u001b[0;32m/tmp/ipykernel_12035/4226969918.py\u001b[0m in \u001b[0;36mdownload_files\u001b[0;34m(url, extension)\u001b[0m\n\u001b[1;32m     16\u001b[0m \u001b[0;34m\u001b[0m\u001b[0m\n\u001b[1;32m     17\u001b[0m     \u001b[0;32mfor\u001b[0m \u001b[0mfile\u001b[0m \u001b[0;32min\u001b[0m \u001b[0mcontent\u001b[0m\u001b[0;34m:\u001b[0m\u001b[0;34m\u001b[0m\u001b[0;34m\u001b[0m\u001b[0m\n\u001b[0;32m---> 18\u001b[0;31m         \u001b[0;32mif\u001b[0m \u001b[0mfile\u001b[0m\u001b[0;34m[\u001b[0m\u001b[0;34m'name'\u001b[0m\u001b[0;34m]\u001b[0m\u001b[0;34m.\u001b[0m\u001b[0mendswith\u001b[0m\u001b[0;34m(\u001b[0m\u001b[0mextension\u001b[0m\u001b[0;34m)\u001b[0m\u001b[0;34m:\u001b[0m\u001b[0;34m\u001b[0m\u001b[0;34m\u001b[0m\u001b[0m\n\u001b[0m\u001b[1;32m     19\u001b[0m             \u001b[0mfile_url\u001b[0m \u001b[0;34m=\u001b[0m \u001b[0mfile\u001b[0m\u001b[0;34m[\u001b[0m\u001b[0;34m'https://github.com/hardmaru/slimevolleygym/blob/master/slimevolleygym/__init__.py'\u001b[0m\u001b[0;34m]\u001b[0m\u001b[0;34m\u001b[0m\u001b[0;34m\u001b[0m\u001b[0m\n\u001b[1;32m     20\u001b[0m             \u001b[0mfile_content\u001b[0m \u001b[0;34m=\u001b[0m \u001b[0mrequests\u001b[0m\u001b[0;34m.\u001b[0m\u001b[0mget\u001b[0m\u001b[0;34m(\u001b[0m\u001b[0mfile_url\u001b[0m\u001b[0;34m)\u001b[0m\u001b[0;34m.\u001b[0m\u001b[0mtext\u001b[0m\u001b[0;34m\u001b[0m\u001b[0;34m\u001b[0m\u001b[0m\n",
      "\u001b[0;31mTypeError\u001b[0m: string indices must be integers"
     ]
    }
   ],
   "source": [
    "import requests\n",
    "\n",
    "def download_files(url, extension):\n",
    "    response = requests.get(url)\n",
    "    response.raise_for_status()  # Check for any errors\n",
    "\n",
    "    # Parse the response content as JSON\n",
    "    content = response.json()\n",
    "    \n",
    "    print(content.keys(), \"\\n\")\n",
    "    print(content[\"payload\"].keys(), \"\\n\")\n",
    "    print(content[\"payload\"][\"fileTree\"], \"\\n\")\n",
    "    #print(content[\"payload\"][\"tree\"], \"\\n\")\n",
    "    file_content = requests.get('https://github.com/hardmaru/slimevolleygym/blob/master/slimevolleygym/__init__.py').text\n",
    "    print(file_content)\n",
    "\n",
    "    for file in content:\n",
    "        if file['name'].endswith(extension):\n",
    "            file_url = file['https://github.com/hardmaru/slimevolleygym/blob/master/slimevolleygym/__init__.py']\n",
    "            file_content = requests.get(file_url).text\n",
    "\n",
    "            # Save the file with the same name\n",
    "            \"\"\"with open(file['name'], 'w') as f:\n",
    "                f.write(file_content)\"\"\"\n",
    "\n",
    "# Example usage\n",
    "repo_url = 'https://github.com/hardmaru/slimevolleygym/blob/master/slimevolleygym/__init__.py'\n",
    "file_extension = '.py'\n",
    "\n",
    "download_files(repo_url, file_extension)"
   ]
  },
  {
   "cell_type": "code",
   "execution_count": 20,
   "id": "dc0f86c2",
   "metadata": {
    "scrolled": true
   },
   "outputs": [
    {
     "name": "stdout",
     "output_type": "stream",
     "text": [
      "dict_keys(['allShortcutsEnabled', 'path', 'repo', 'currentUser', 'refInfo', 'tree', 'fileTree', 'fileTreeProcessingTime', 'foldersToFetch', 'showSurveyBanner', 'showCodeNavSurvey', 'csrf_tokens']) \n",
      "\n",
      "[{'name': 'figure', 'path': 'figure', 'contentType': 'directory'}, {'name': 'slimevolleygym', 'path': 'slimevolleygym', 'contentType': 'directory'}, {'name': 'training_scripts', 'path': 'training_scripts', 'contentType': 'directory'}, {'name': 'zoo', 'path': 'zoo', 'contentType': 'directory'}, {'name': 'LICENSE', 'path': 'LICENSE', 'contentType': 'file'}, {'name': 'README.md', 'path': 'README.md', 'contentType': 'file'}, {'name': 'TRAINING.md', 'path': 'TRAINING.md', 'contentType': 'file'}, {'name': 'eval_agents.py', 'path': 'eval_agents.py', 'contentType': 'file'}, {'name': 'eval_ppo.py', 'path': 'eval_ppo.py', 'contentType': 'file'}, {'name': 'eval_ppo_pixel.py', 'path': 'eval_ppo_pixel.py', 'contentType': 'file'}, {'name': 'requirements.txt', 'path': 'requirements.txt', 'contentType': 'file'}, {'name': 'setup.py', 'path': 'setup.py', 'contentType': 'file'}, {'name': 'test_atari.py', 'path': 'test_atari.py', 'contentType': 'file'}, {'name': 'test_pixel.py', 'path': 'test_pixel.py', 'contentType': 'file'}, {'name': 'test_state.py', 'path': 'test_state.py', 'contentType': 'file'}]\n"
     ]
    },
    {
     "ename": "TypeError",
     "evalue": "string indices must be integers",
     "output_type": "error",
     "traceback": [
      "\u001b[0;31m---------------------------------------------------------------------------\u001b[0m",
      "\u001b[0;31mTypeError\u001b[0m                                 Traceback (most recent call last)",
      "\u001b[0;32m/tmp/ipykernel_12035/1657448185.py\u001b[0m in \u001b[0;36m<module>\u001b[0;34m\u001b[0m\n\u001b[1;32m     26\u001b[0m \u001b[0mfile_extension\u001b[0m \u001b[0;34m=\u001b[0m \u001b[0;34m'.py'\u001b[0m\u001b[0;34m\u001b[0m\u001b[0;34m\u001b[0m\u001b[0m\n\u001b[1;32m     27\u001b[0m \u001b[0;34m\u001b[0m\u001b[0m\n\u001b[0;32m---> 28\u001b[0;31m \u001b[0mdownload_files\u001b[0m\u001b[0;34m(\u001b[0m\u001b[0mrepo_url\u001b[0m\u001b[0;34m,\u001b[0m \u001b[0mfile_extension\u001b[0m\u001b[0;34m)\u001b[0m\u001b[0;34m\u001b[0m\u001b[0;34m\u001b[0m\u001b[0m\n\u001b[0m",
      "\u001b[0;32m/tmp/ipykernel_12035/1657448185.py\u001b[0m in \u001b[0;36mdownload_files\u001b[0;34m(url, extension)\u001b[0m\n\u001b[1;32m     12\u001b[0m \u001b[0;34m\u001b[0m\u001b[0m\n\u001b[1;32m     13\u001b[0m     \u001b[0;32mfor\u001b[0m \u001b[0mfile\u001b[0m \u001b[0;32min\u001b[0m \u001b[0mcontent\u001b[0m\u001b[0;34m:\u001b[0m\u001b[0;34m\u001b[0m\u001b[0;34m\u001b[0m\u001b[0m\n\u001b[0;32m---> 14\u001b[0;31m         \u001b[0;32mif\u001b[0m \u001b[0mfile\u001b[0m\u001b[0;34m[\u001b[0m\u001b[0;34m'name'\u001b[0m\u001b[0;34m]\u001b[0m\u001b[0;34m.\u001b[0m\u001b[0mendswith\u001b[0m\u001b[0;34m(\u001b[0m\u001b[0mextension\u001b[0m\u001b[0;34m)\u001b[0m\u001b[0;34m:\u001b[0m\u001b[0;34m\u001b[0m\u001b[0;34m\u001b[0m\u001b[0m\n\u001b[0m\u001b[1;32m     15\u001b[0m             \u001b[0mfile_url\u001b[0m \u001b[0;34m=\u001b[0m \u001b[0mfile\u001b[0m\u001b[0;34m[\u001b[0m\u001b[0;34m'download_url'\u001b[0m\u001b[0;34m]\u001b[0m\u001b[0;34m\u001b[0m\u001b[0;34m\u001b[0m\u001b[0m\n\u001b[1;32m     16\u001b[0m             \u001b[0mfile_content\u001b[0m \u001b[0;34m=\u001b[0m \u001b[0mrequests\u001b[0m\u001b[0;34m.\u001b[0m\u001b[0mget\u001b[0m\u001b[0;34m(\u001b[0m\u001b[0mfile_url\u001b[0m\u001b[0;34m)\u001b[0m\u001b[0;34m.\u001b[0m\u001b[0mtext\u001b[0m\u001b[0;34m\u001b[0m\u001b[0;34m\u001b[0m\u001b[0m\n",
      "\u001b[0;31mTypeError\u001b[0m: string indices must be integers"
     ]
    }
   ],
   "source": [
    "import requests\n",
    "\n",
    "def download_files(url, extension):\n",
    "    response = requests.get(url)\n",
    "    response.raise_for_status()  # Check for any errors\n",
    "\n",
    "    # Parse the response content as JSON\n",
    "    content = response.json()\n",
    "    \n",
    "    print(content[\"payload\"].keys(), \"\\n\")\n",
    "    print(content[\"payload\"][\"fileTree\"]['']['items'])\n",
    "\n",
    "    for file in content:\n",
    "        if file['name'].endswith(extension):\n",
    "            file_url = file['download_url']\n",
    "            file_content = requests.get(file_url).text\n",
    "\n",
    "            # Save the file with the same name\n",
    "            \"\"\"with open(file['name'], 'w') as f:\n",
    "                f.write(file_content)\"\"\"\n",
    "\n",
    "# Example usage\n",
    "#repo_url = \"https://github.com/hardmaru/slimevolleygym/tree/master\"\n",
    "repo_url = 'https://github.com/hardmaru/slimevolleygym/blob/master/slimevolleygym'\n",
    "#repo_url = \"https://github.com/apache/steve/tree/trunk/pysteve\"\n",
    "file_extension = '.py'\n",
    "\n",
    "download_files(repo_url, file_extension)"
   ]
  },
  {
   "cell_type": "code",
   "execution_count": null,
   "id": "50a5950c",
   "metadata": {},
   "outputs": [],
   "source": [
    "import requests\n",
    "\n",
    "def download_files(url, extension):\n",
    "    response = requests.get(url)\n",
    "    response.raise_for_status()  # Check for any errors\n",
    "\n",
    "    # Parse the response content as JSON\n",
    "    content = response.json()\n",
    "    \n",
    "    print(content[\"payload\"].keys(), \"\\n\")\n",
    "    print(content[\"payload\"][\"fileTree\"]['']['items'])\n",
    "    \n",
    "    folders_and_files = content[\"payload\"][\"fileTree\"]['']['items']\n",
    "    \n",
    "    def file_extention(folders_and_files):\n",
    "        for dic in folders_and_files:\n",
    "            if dic['contentType'] == 'file':\n",
    "                if dic['path'].split(\".\")[1] == \"py\":\n",
    "                    python_files.append()\n",
    "\n",
    "    for file in content:\n",
    "        if file['name'].endswith(extension):\n",
    "            file_url = file['download_url']\n",
    "            file_content = requests.get(file_url).text\n",
    "\n",
    "            # Save the file with the same name\n",
    "            \"\"\"with open(file['name'], 'w') as f:\n",
    "                f.write(file_content)\"\"\"\n",
    "\n",
    "# Example usage\n",
    "repo_url = 'https://github.com/hardmaru/slimevolleygym/blob/master/slimevolleygym'\n",
    "#repo_url = \"https://github.com/apache/steve/tree/trunk/pysteve\"\n",
    "file_extension = '.py'\n",
    "\n",
    "download_files(repo_url, file_extension)"
   ]
  }
 ],
 "metadata": {
  "kernelspec": {
   "display_name": "Python 3 (ipykernel)",
   "language": "python",
   "name": "python3"
  },
  "language_info": {
   "codemirror_mode": {
    "name": "ipython",
    "version": 3
   },
   "file_extension": ".py",
   "mimetype": "text/x-python",
   "name": "python",
   "nbconvert_exporter": "python",
   "pygments_lexer": "ipython3",
   "version": "3.7.11"
  }
 },
 "nbformat": 4,
 "nbformat_minor": 5
}
