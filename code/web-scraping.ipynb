{
 "cells": [
  {
   "cell_type": "code",
   "execution_count": 3,
   "id": "f0d25cec",
   "metadata": {
    "collapsed": true
   },
   "outputs": [
    {
     "name": "stdout",
     "output_type": "stream",
     "text": [
      "Collecting requests\n",
      "  Downloading requests-2.31.0-py3-none-any.whl (62 kB)\n",
      "\u001b[K     |████████████████████████████████| 62 kB 77 kB/s  eta 0:00:01\n",
      "\u001b[?25hCollecting idna<4,>=2.5\n",
      "  Downloading idna-3.4-py3-none-any.whl (61 kB)\n",
      "\u001b[K     |████████████████████████████████| 61 kB 75 kB/s  eta 0:00:01\n",
      "\u001b[?25hCollecting urllib3<3,>=1.21.1\n",
      "  Downloading urllib3-2.0.3-py3-none-any.whl (123 kB)\n",
      "\u001b[K     |████████████████████████████████| 123 kB 3.7 MB/s eta 0:00:01\n",
      "\u001b[?25hCollecting charset-normalizer<4,>=2\n",
      "  Downloading charset_normalizer-3.2.0-cp37-cp37m-manylinux_2_17_x86_64.manylinux2014_x86_64.whl (175 kB)\n",
      "\u001b[K     |████████████████████████████████| 175 kB 4.6 MB/s eta 0:00:01\n",
      "\u001b[?25hRequirement already satisfied: certifi>=2017.4.17 in /home/amirmahdi/anaconda3/envs/RL_Project2/lib/python3.7/site-packages (from requests) (2022.6.15)\n",
      "Installing collected packages: urllib3, idna, charset-normalizer, requests\n",
      "Successfully installed charset-normalizer-3.2.0 idna-3.4 requests-2.31.0 urllib3-2.0.3\n"
     ]
    }
   ],
   "source": [
    "!pip install requests"
   ]
  },
  {
   "cell_type": "code",
   "execution_count": 82,
   "id": "3b88e3d8",
   "metadata": {
    "scrolled": true
   },
   "outputs": [
    {
     "name": "stdout",
     "output_type": "stream",
     "text": [
      "dict_keys(['allShortcutsEnabled', 'path', 'repo', 'currentUser', 'refInfo', 'tree', 'fileTree', 'fileTreeProcessingTime', 'foldersToFetch', 'showSurveyBanner', 'showCodeNavSurvey', 'csrf_tokens']) \n",
      "\n",
      "{'': {'items': [{'name': 'figure', 'path': 'figure', 'contentType': 'directory'}, {'name': 'slimevolleygym', 'path': 'slimevolleygym', 'contentType': 'directory'}, {'name': 'training_scripts', 'path': 'training_scripts', 'contentType': 'directory'}, {'name': 'zoo', 'path': 'zoo', 'contentType': 'directory'}, {'name': 'LICENSE', 'path': 'LICENSE', 'contentType': 'file'}, {'name': 'README.md', 'path': 'README.md', 'contentType': 'file'}, {'name': 'TRAINING.md', 'path': 'TRAINING.md', 'contentType': 'file'}, {'name': 'eval_agents.py', 'path': 'eval_agents.py', 'contentType': 'file'}, {'name': 'eval_ppo.py', 'path': 'eval_ppo.py', 'contentType': 'file'}, {'name': 'eval_ppo_pixel.py', 'path': 'eval_ppo_pixel.py', 'contentType': 'file'}, {'name': 'requirements.txt', 'path': 'requirements.txt', 'contentType': 'file'}, {'name': 'setup.py', 'path': 'setup.py', 'contentType': 'file'}, {'name': 'test_atari.py', 'path': 'test_atari.py', 'contentType': 'file'}, {'name': 'test_pixel.py', 'path': 'test_pixel.py', 'contentType': 'file'}, {'name': 'test_state.py', 'path': 'test_state.py', 'contentType': 'file'}], 'totalCount': 15}} \n",
      "\n",
      "{'items': [{'name': '__init__.py', 'path': 'slimevolleygym/__init__.py', 'contentType': 'file'}, {'name': 'mlp.py', 'path': 'slimevolleygym/mlp.py', 'contentType': 'file'}, {'name': 'slimevolley.py', 'path': 'slimevolleygym/slimevolley.py', 'contentType': 'file'}], 'templateDirectorySuggestionUrl': None, 'readme': None, 'totalCount': 3, 'showBranchInfobar': False}\n"
     ]
    },
    {
     "ename": "TypeError",
     "evalue": "string indices must be integers",
     "output_type": "error",
     "traceback": [
      "\u001b[0;31m---------------------------------------------------------------------------\u001b[0m",
      "\u001b[0;31mTypeError\u001b[0m                                 Traceback (most recent call last)",
      "\u001b[0;32m/tmp/ipykernel_12270/213305754.py\u001b[0m in \u001b[0;36m<module>\u001b[0;34m\u001b[0m\n\u001b[1;32m     25\u001b[0m \u001b[0mfile_extension\u001b[0m \u001b[0;34m=\u001b[0m \u001b[0;34m'.py'\u001b[0m\u001b[0;34m\u001b[0m\u001b[0;34m\u001b[0m\u001b[0m\n\u001b[1;32m     26\u001b[0m \u001b[0;34m\u001b[0m\u001b[0m\n\u001b[0;32m---> 27\u001b[0;31m \u001b[0mdownload_files\u001b[0m\u001b[0;34m(\u001b[0m\u001b[0mrepo_url\u001b[0m\u001b[0;34m,\u001b[0m \u001b[0mfile_extension\u001b[0m\u001b[0;34m)\u001b[0m\u001b[0;34m\u001b[0m\u001b[0;34m\u001b[0m\u001b[0m\n\u001b[0m",
      "\u001b[0;32m/tmp/ipykernel_12270/213305754.py\u001b[0m in \u001b[0;36mdownload_files\u001b[0;34m(url, extension)\u001b[0m\n\u001b[1;32m     13\u001b[0m \u001b[0;34m\u001b[0m\u001b[0m\n\u001b[1;32m     14\u001b[0m     \u001b[0;32mfor\u001b[0m \u001b[0mfile\u001b[0m \u001b[0;32min\u001b[0m \u001b[0mcontent\u001b[0m\u001b[0;34m:\u001b[0m\u001b[0;34m\u001b[0m\u001b[0;34m\u001b[0m\u001b[0m\n\u001b[0;32m---> 15\u001b[0;31m         \u001b[0;32mif\u001b[0m \u001b[0mfile\u001b[0m\u001b[0;34m[\u001b[0m\u001b[0;34m'name'\u001b[0m\u001b[0;34m]\u001b[0m\u001b[0;34m.\u001b[0m\u001b[0mendswith\u001b[0m\u001b[0;34m(\u001b[0m\u001b[0mextension\u001b[0m\u001b[0;34m)\u001b[0m\u001b[0;34m:\u001b[0m\u001b[0;34m\u001b[0m\u001b[0;34m\u001b[0m\u001b[0m\n\u001b[0m\u001b[1;32m     16\u001b[0m             \u001b[0mfile_url\u001b[0m \u001b[0;34m=\u001b[0m \u001b[0mfile\u001b[0m\u001b[0;34m[\u001b[0m\u001b[0;34m'download_url'\u001b[0m\u001b[0;34m]\u001b[0m\u001b[0;34m\u001b[0m\u001b[0;34m\u001b[0m\u001b[0m\n\u001b[1;32m     17\u001b[0m             \u001b[0mfile_content\u001b[0m \u001b[0;34m=\u001b[0m \u001b[0mrequests\u001b[0m\u001b[0;34m.\u001b[0m\u001b[0mget\u001b[0m\u001b[0;34m(\u001b[0m\u001b[0mfile_url\u001b[0m\u001b[0;34m)\u001b[0m\u001b[0;34m.\u001b[0m\u001b[0mtext\u001b[0m\u001b[0;34m\u001b[0m\u001b[0;34m\u001b[0m\u001b[0m\n",
      "\u001b[0;31mTypeError\u001b[0m: string indices must be integers"
     ]
    }
   ],
   "source": [
    "import requests\n",
    "\n",
    "def download_files(url, extension):\n",
    "    response = requests.get(url)\n",
    "    response.raise_for_status()  # Check for any errors\n",
    "\n",
    "    # Parse the response content as JSON\n",
    "    content = response.json()\n",
    "    \n",
    "    print(content[\"payload\"].keys(), \"\\n\")\n",
    "    print(content[\"payload\"][\"fileTree\"], \"\\n\")\n",
    "    print(content[\"payload\"][\"tree\"])\n",
    "\n",
    "    for file in content:\n",
    "        if file['name'].endswith(extension):\n",
    "            file_url = file['download_url']\n",
    "            file_content = requests.get(file_url).text\n",
    "\n",
    "            # Save the file with the same name\n",
    "            \"\"\"with open(file['name'], 'w') as f:\n",
    "                f.write(file_content)\"\"\"\n",
    "\n",
    "# Example usage\n",
    "repo_url = 'https://github.com/hardmaru/slimevolleygym/blob/master/slimevolleygym'\n",
    "file_extension = '.py'\n",
    "\n",
    "download_files(repo_url, file_extension)"
   ]
  },
  {
   "cell_type": "code",
   "execution_count": 56,
   "id": "dc0f86c2",
   "metadata": {},
   "outputs": [
    {
     "name": "stdout",
     "output_type": "stream",
     "text": [
      "None\n"
     ]
    },
    {
     "ename": "AttributeError",
     "evalue": "'str' object has no attribute 'get'",
     "output_type": "error",
     "traceback": [
      "\u001b[0;31m---------------------------------------------------------------------------\u001b[0m",
      "\u001b[0;31mAttributeError\u001b[0m                            Traceback (most recent call last)",
      "\u001b[0;32m/tmp/ipykernel_12270/2985477643.py\u001b[0m in \u001b[0;36m<module>\u001b[0;34m\u001b[0m\n\u001b[1;32m     23\u001b[0m \u001b[0mfile_extension\u001b[0m \u001b[0;34m=\u001b[0m \u001b[0;34m'.py'\u001b[0m\u001b[0;34m\u001b[0m\u001b[0;34m\u001b[0m\u001b[0m\n\u001b[1;32m     24\u001b[0m \u001b[0;34m\u001b[0m\u001b[0m\n\u001b[0;32m---> 25\u001b[0;31m \u001b[0mdownload_files\u001b[0m\u001b[0;34m(\u001b[0m\u001b[0mrepo_url\u001b[0m\u001b[0;34m,\u001b[0m \u001b[0mfile_extension\u001b[0m\u001b[0;34m)\u001b[0m\u001b[0;34m\u001b[0m\u001b[0;34m\u001b[0m\u001b[0m\n\u001b[0m",
      "\u001b[0;32m/tmp/ipykernel_12270/2985477643.py\u001b[0m in \u001b[0;36mdownload_files\u001b[0;34m(url, extension)\u001b[0m\n\u001b[1;32m      9\u001b[0m \u001b[0;34m\u001b[0m\u001b[0m\n\u001b[1;32m     10\u001b[0m     \u001b[0;32mfor\u001b[0m \u001b[0mfile\u001b[0m \u001b[0;32min\u001b[0m \u001b[0mlist\u001b[0m\u001b[0;34m(\u001b[0m\u001b[0mcontent\u001b[0m\u001b[0;34m.\u001b[0m\u001b[0mitems\u001b[0m\u001b[0;34m(\u001b[0m\u001b[0;34m)\u001b[0m\u001b[0;34m)\u001b[0m\u001b[0;34m[\u001b[0m\u001b[0;36m0\u001b[0m\u001b[0;34m]\u001b[0m\u001b[0;34m:\u001b[0m\u001b[0;34m\u001b[0m\u001b[0;34m\u001b[0m\u001b[0m\n\u001b[0;32m---> 11\u001b[0;31m         \u001b[0mfile_name\u001b[0m \u001b[0;34m=\u001b[0m \u001b[0mfile\u001b[0m\u001b[0;34m.\u001b[0m\u001b[0mget\u001b[0m\u001b[0;34m(\u001b[0m\u001b[0;34m'name'\u001b[0m\u001b[0;34m)\u001b[0m\u001b[0;34m\u001b[0m\u001b[0;34m\u001b[0m\u001b[0m\n\u001b[0m\u001b[1;32m     12\u001b[0m         \u001b[0;32mif\u001b[0m \u001b[0mfile_name\u001b[0m \u001b[0;32mand\u001b[0m \u001b[0mfile_name\u001b[0m\u001b[0;34m.\u001b[0m\u001b[0mendswith\u001b[0m\u001b[0;34m(\u001b[0m\u001b[0mextension\u001b[0m\u001b[0;34m)\u001b[0m\u001b[0;34m:\u001b[0m\u001b[0;34m\u001b[0m\u001b[0;34m\u001b[0m\u001b[0m\n\u001b[1;32m     13\u001b[0m             \u001b[0mfile_url\u001b[0m \u001b[0;34m=\u001b[0m \u001b[0mfile\u001b[0m\u001b[0;34m.\u001b[0m\u001b[0mget\u001b[0m\u001b[0;34m(\u001b[0m\u001b[0;34m'download_url'\u001b[0m\u001b[0;34m)\u001b[0m\u001b[0;34m\u001b[0m\u001b[0;34m\u001b[0m\u001b[0m\n",
      "\u001b[0;31mAttributeError\u001b[0m: 'str' object has no attribute 'get'"
     ]
    }
   ],
   "source": [
    "\n",
    "def download_files(url, extension):\n",
    "    response = requests.get(url)\n",
    "    response.raise_for_status()  # Check for any errors\n",
    "\n",
    "    # Parse the response content as JSON\n",
    "    content = response.json()\n",
    "    \n",
    "    print(content.get('name'))\n",
    "\n",
    "    for file in list(content.items())[0]:\n",
    "        file_name = file.get('name')\n",
    "        if file_name and file_name.endswith(extension):\n",
    "            file_url = file.get('download_url')\n",
    "            if file_url:\n",
    "                file_content = requests.get(file_url).text\n",
    "\n",
    "                # Save the file with the same name\n",
    "                with open(file_name, 'w') as f:\n",
    "                    f.write(file_content)\n",
    "\n",
    "# Example usage\n",
    "repo_url = 'https://github.com/hardmaru/slimevolleygym/blob/master/slimevolleygym/slimevolley.py'\n",
    "file_extension = '.py'\n",
    "\n",
    "download_files(repo_url, file_extension)"
   ]
  }
 ],
 "metadata": {
  "kernelspec": {
   "display_name": "Python 3 (ipykernel)",
   "language": "python",
   "name": "python3"
  },
  "language_info": {
   "codemirror_mode": {
    "name": "ipython",
    "version": 3
   },
   "file_extension": ".py",
   "mimetype": "text/x-python",
   "name": "python",
   "nbconvert_exporter": "python",
   "pygments_lexer": "ipython3",
   "version": "3.7.11"
  }
 },
 "nbformat": 4,
 "nbformat_minor": 5
}
